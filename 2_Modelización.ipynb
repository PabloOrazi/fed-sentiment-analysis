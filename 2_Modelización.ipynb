{
  "nbformat": 4,
  "nbformat_minor": 0,
  "metadata": {
    "colab": {
      "provenance": [],
      "gpuType": "T4"
    },
    "kernelspec": {
      "name": "python3",
      "display_name": "Python 3"
    },
    "language_info": {
      "name": "python"
    },
    "accelerator": "GPU"
  },
  "cells": [
    {
      "cell_type": "markdown",
      "source": [
        "Importamos las librerías\n",
        "Pegar archivo database_df_fechas_y_dhn.pkl"
      ],
      "metadata": {
        "id": "nE2rz03DmSrh"
      }
    },
    {
      "cell_type": "code",
      "execution_count": null,
      "metadata": {
        "id": "WorCR5TCFx3F"
      },
      "outputs": [],
      "source": [
        "import os\n",
        "import datetime\n",
        "import IPython\n",
        "import IPython.display\n",
        "import matplotlib as mpl\n",
        "import matplotlib.pyplot as plt\n",
        "import numpy as np\n",
        "import pandas as pd\n",
        "import seaborn as sns\n",
        "import tensorflow as tf\n",
        "from sklearn.metrics import log_loss\n",
        "from sklearn.metrics import confusion_matrix\n",
        "from sklearn.model_selection import train_test_split\n",
        "from sklearn.preprocessing import StandardScaler, LabelEncoder\n",
        "from keras.models import Sequential\n",
        "from keras.layers import Dense\n",
        "from keras.utils import to_categorical\n",
        "from google.colab import drive\n",
        "from sklearn.linear_model import LogisticRegression\n",
        "from sklearn.preprocessing import OneHotEncoder\n",
        "from imblearn.over_sampling import SMOTE\n",
        "from sklearn.metrics import accuracy_score,f1_score,recall_score,precision_score, roc_auc_score,confusion_matrix\n",
        "from sklearn.compose import ColumnTransformer\n",
        "from sklearn.pipeline import Pipeline\n",
        "from sklearn.preprocessing import OneHotEncoder, StandardScaler\n",
        "from sklearn.impute import SimpleImputer\n",
        "from sklearn.preprocessing import FunctionTransformer\n",
        "\n"
      ]
    },
    {
      "cell_type": "markdown",
      "source": [
        "Importamos los datos provenientes del Colab 1"
      ],
      "metadata": {
        "id": "OW4bFvr1mQ-d"
      }
    },
    {
      "cell_type": "code",
      "source": [
        "path_database_info_completa='/content/database_df_fechas_y_dhn.pkl'\n",
        "\n",
        "df=pd.read_pickle(path_database_info_completa)\n"
      ],
      "metadata": {
        "id": "sKDfnGZ-F37L"
      },
      "execution_count": null,
      "outputs": []
    },
    {
      "cell_type": "markdown",
      "source": [
        "Analizamos, si hay outliers"
      ],
      "metadata": {
        "id": "DdOBu2gNmp71"
      }
    },
    {
      "cell_type": "code",
      "source": [
        "df\n",
        "\n"
      ],
      "metadata": {
        "id": "vN4OlxNIGmZz",
        "colab": {
          "base_uri": "https://localhost:8080/",
          "height": 663
        },
        "outputId": "1339de4e-db05-4bc6-95a0-121f364d48cf"
      },
      "execution_count": null,
      "outputs": [
        {
          "output_type": "execute_result",
          "data": {
            "text/plain": [
              "           Fecha Reunión + 1 BD Publicacion Minuta + 1 BD  \\\n",
              "index                                                       \n",
              "1995-02-01           1995-02-02                1995-04-03   \n",
              "1995-03-28           1995-03-29                1995-05-29   \n",
              "1995-05-23           1995-05-24                1995-07-10   \n",
              "1995-07-06           1995-07-07                1995-08-28   \n",
              "1995-08-22           1995-08-23                1995-10-02   \n",
              "...                         ...                       ...   \n",
              "2023-06-14           2023-06-15                2023-07-06   \n",
              "2023-07-26           2023-07-27                2023-08-17   \n",
              "2023-09-20           2023-09-21                2023-10-12   \n",
              "2023-11-01           2023-11-02                2023-11-22   \n",
              "2023-12-13           2023-12-14                2024-01-04   \n",
              "\n",
              "           Fecha Siguiente Reunión + 1 BD  Decisión Política Monetaria  \\\n",
              "index                                                                    \n",
              "1995-02-01                     1995-03-29                         0.00   \n",
              "1995-03-28                     1995-05-24                         0.00   \n",
              "1995-05-23                     1995-07-07                        -0.25   \n",
              "1995-07-06                     1995-08-23                         0.00   \n",
              "1995-08-22                     1995-09-27                         0.00   \n",
              "...                                   ...                          ...   \n",
              "2023-06-14                     2023-07-27                         0.25   \n",
              "2023-07-26                     2023-09-21                         0.00   \n",
              "2023-09-20                     2023-11-02                         0.00   \n",
              "2023-11-01                     2023-12-14                         0.00   \n",
              "2023-12-13                            NaT                          NaN   \n",
              "\n",
              "            Fed Target Rate  Effective Fed Funds Rate  Tasa 3 Meses    Dovish  \\\n",
              "index                                                                           \n",
              "1995-02-01            6.000                      6.28          5.70  0.041030   \n",
              "1995-03-28            6.000                      5.97          5.66  0.127621   \n",
              "1995-05-23            5.750                      5.78          5.36  0.190530   \n",
              "1995-07-06            5.750                      5.72          5.31  0.207284   \n",
              "1995-08-22            5.750                      5.93          5.26  0.132782   \n",
              "...                     ...                       ...           ...       ...   \n",
              "2023-06-14            5.125                      5.08          5.23  0.100451   \n",
              "2023-07-26            5.375                      5.33          5.29  0.158601   \n",
              "2023-09-20            5.375                      5.33          5.35  0.135375   \n",
              "2023-11-01            5.375                      5.33          5.27  0.098530   \n",
              "2023-12-13            5.375                      5.33          5.24  0.242592   \n",
              "\n",
              "             Hawkish   Neutral  \n",
              "index                           \n",
              "1995-02-01  0.309371  0.649599  \n",
              "1995-03-28  0.207176  0.665203  \n",
              "1995-05-23  0.221339  0.588130  \n",
              "1995-07-06  0.187037  0.605679  \n",
              "1995-08-22  0.176945  0.690272  \n",
              "...              ...       ...  \n",
              "2023-06-14  0.410815  0.488733  \n",
              "2023-07-26  0.479939  0.361460  \n",
              "2023-09-20  0.452688  0.411937  \n",
              "2023-11-01  0.503840  0.397630  \n",
              "2023-12-13  0.327009  0.430399  \n",
              "\n",
              "[231 rows x 10 columns]"
            ],
            "text/html": [
              "\n",
              "  <div id=\"df-c57e84ce-0066-49d3-ba1e-28a1285a8932\" class=\"colab-df-container\">\n",
              "    <div>\n",
              "<style scoped>\n",
              "    .dataframe tbody tr th:only-of-type {\n",
              "        vertical-align: middle;\n",
              "    }\n",
              "\n",
              "    .dataframe tbody tr th {\n",
              "        vertical-align: top;\n",
              "    }\n",
              "\n",
              "    .dataframe thead th {\n",
              "        text-align: right;\n",
              "    }\n",
              "</style>\n",
              "<table border=\"1\" class=\"dataframe\">\n",
              "  <thead>\n",
              "    <tr style=\"text-align: right;\">\n",
              "      <th></th>\n",
              "      <th>Fecha Reunión + 1 BD</th>\n",
              "      <th>Publicacion Minuta + 1 BD</th>\n",
              "      <th>Fecha Siguiente Reunión + 1 BD</th>\n",
              "      <th>Decisión Política Monetaria</th>\n",
              "      <th>Fed Target Rate</th>\n",
              "      <th>Effective Fed Funds Rate</th>\n",
              "      <th>Tasa 3 Meses</th>\n",
              "      <th>Dovish</th>\n",
              "      <th>Hawkish</th>\n",
              "      <th>Neutral</th>\n",
              "    </tr>\n",
              "    <tr>\n",
              "      <th>index</th>\n",
              "      <th></th>\n",
              "      <th></th>\n",
              "      <th></th>\n",
              "      <th></th>\n",
              "      <th></th>\n",
              "      <th></th>\n",
              "      <th></th>\n",
              "      <th></th>\n",
              "      <th></th>\n",
              "      <th></th>\n",
              "    </tr>\n",
              "  </thead>\n",
              "  <tbody>\n",
              "    <tr>\n",
              "      <th>1995-02-01</th>\n",
              "      <td>1995-02-02</td>\n",
              "      <td>1995-04-03</td>\n",
              "      <td>1995-03-29</td>\n",
              "      <td>0.00</td>\n",
              "      <td>6.000</td>\n",
              "      <td>6.28</td>\n",
              "      <td>5.70</td>\n",
              "      <td>0.041030</td>\n",
              "      <td>0.309371</td>\n",
              "      <td>0.649599</td>\n",
              "    </tr>\n",
              "    <tr>\n",
              "      <th>1995-03-28</th>\n",
              "      <td>1995-03-29</td>\n",
              "      <td>1995-05-29</td>\n",
              "      <td>1995-05-24</td>\n",
              "      <td>0.00</td>\n",
              "      <td>6.000</td>\n",
              "      <td>5.97</td>\n",
              "      <td>5.66</td>\n",
              "      <td>0.127621</td>\n",
              "      <td>0.207176</td>\n",
              "      <td>0.665203</td>\n",
              "    </tr>\n",
              "    <tr>\n",
              "      <th>1995-05-23</th>\n",
              "      <td>1995-05-24</td>\n",
              "      <td>1995-07-10</td>\n",
              "      <td>1995-07-07</td>\n",
              "      <td>-0.25</td>\n",
              "      <td>5.750</td>\n",
              "      <td>5.78</td>\n",
              "      <td>5.36</td>\n",
              "      <td>0.190530</td>\n",
              "      <td>0.221339</td>\n",
              "      <td>0.588130</td>\n",
              "    </tr>\n",
              "    <tr>\n",
              "      <th>1995-07-06</th>\n",
              "      <td>1995-07-07</td>\n",
              "      <td>1995-08-28</td>\n",
              "      <td>1995-08-23</td>\n",
              "      <td>0.00</td>\n",
              "      <td>5.750</td>\n",
              "      <td>5.72</td>\n",
              "      <td>5.31</td>\n",
              "      <td>0.207284</td>\n",
              "      <td>0.187037</td>\n",
              "      <td>0.605679</td>\n",
              "    </tr>\n",
              "    <tr>\n",
              "      <th>1995-08-22</th>\n",
              "      <td>1995-08-23</td>\n",
              "      <td>1995-10-02</td>\n",
              "      <td>1995-09-27</td>\n",
              "      <td>0.00</td>\n",
              "      <td>5.750</td>\n",
              "      <td>5.93</td>\n",
              "      <td>5.26</td>\n",
              "      <td>0.132782</td>\n",
              "      <td>0.176945</td>\n",
              "      <td>0.690272</td>\n",
              "    </tr>\n",
              "    <tr>\n",
              "      <th>...</th>\n",
              "      <td>...</td>\n",
              "      <td>...</td>\n",
              "      <td>...</td>\n",
              "      <td>...</td>\n",
              "      <td>...</td>\n",
              "      <td>...</td>\n",
              "      <td>...</td>\n",
              "      <td>...</td>\n",
              "      <td>...</td>\n",
              "      <td>...</td>\n",
              "    </tr>\n",
              "    <tr>\n",
              "      <th>2023-06-14</th>\n",
              "      <td>2023-06-15</td>\n",
              "      <td>2023-07-06</td>\n",
              "      <td>2023-07-27</td>\n",
              "      <td>0.25</td>\n",
              "      <td>5.125</td>\n",
              "      <td>5.08</td>\n",
              "      <td>5.23</td>\n",
              "      <td>0.100451</td>\n",
              "      <td>0.410815</td>\n",
              "      <td>0.488733</td>\n",
              "    </tr>\n",
              "    <tr>\n",
              "      <th>2023-07-26</th>\n",
              "      <td>2023-07-27</td>\n",
              "      <td>2023-08-17</td>\n",
              "      <td>2023-09-21</td>\n",
              "      <td>0.00</td>\n",
              "      <td>5.375</td>\n",
              "      <td>5.33</td>\n",
              "      <td>5.29</td>\n",
              "      <td>0.158601</td>\n",
              "      <td>0.479939</td>\n",
              "      <td>0.361460</td>\n",
              "    </tr>\n",
              "    <tr>\n",
              "      <th>2023-09-20</th>\n",
              "      <td>2023-09-21</td>\n",
              "      <td>2023-10-12</td>\n",
              "      <td>2023-11-02</td>\n",
              "      <td>0.00</td>\n",
              "      <td>5.375</td>\n",
              "      <td>5.33</td>\n",
              "      <td>5.35</td>\n",
              "      <td>0.135375</td>\n",
              "      <td>0.452688</td>\n",
              "      <td>0.411937</td>\n",
              "    </tr>\n",
              "    <tr>\n",
              "      <th>2023-11-01</th>\n",
              "      <td>2023-11-02</td>\n",
              "      <td>2023-11-22</td>\n",
              "      <td>2023-12-14</td>\n",
              "      <td>0.00</td>\n",
              "      <td>5.375</td>\n",
              "      <td>5.33</td>\n",
              "      <td>5.27</td>\n",
              "      <td>0.098530</td>\n",
              "      <td>0.503840</td>\n",
              "      <td>0.397630</td>\n",
              "    </tr>\n",
              "    <tr>\n",
              "      <th>2023-12-13</th>\n",
              "      <td>2023-12-14</td>\n",
              "      <td>2024-01-04</td>\n",
              "      <td>NaT</td>\n",
              "      <td>NaN</td>\n",
              "      <td>5.375</td>\n",
              "      <td>5.33</td>\n",
              "      <td>5.24</td>\n",
              "      <td>0.242592</td>\n",
              "      <td>0.327009</td>\n",
              "      <td>0.430399</td>\n",
              "    </tr>\n",
              "  </tbody>\n",
              "</table>\n",
              "<p>231 rows × 10 columns</p>\n",
              "</div>\n",
              "    <div class=\"colab-df-buttons\">\n",
              "\n",
              "  <div class=\"colab-df-container\">\n",
              "    <button class=\"colab-df-convert\" onclick=\"convertToInteractive('df-c57e84ce-0066-49d3-ba1e-28a1285a8932')\"\n",
              "            title=\"Convert this dataframe to an interactive table.\"\n",
              "            style=\"display:none;\">\n",
              "\n",
              "  <svg xmlns=\"http://www.w3.org/2000/svg\" height=\"24px\" viewBox=\"0 -960 960 960\">\n",
              "    <path d=\"M120-120v-720h720v720H120Zm60-500h600v-160H180v160Zm220 220h160v-160H400v160Zm0 220h160v-160H400v160ZM180-400h160v-160H180v160Zm440 0h160v-160H620v160ZM180-180h160v-160H180v160Zm440 0h160v-160H620v160Z\"/>\n",
              "  </svg>\n",
              "    </button>\n",
              "\n",
              "  <style>\n",
              "    .colab-df-container {\n",
              "      display:flex;\n",
              "      gap: 12px;\n",
              "    }\n",
              "\n",
              "    .colab-df-convert {\n",
              "      background-color: #E8F0FE;\n",
              "      border: none;\n",
              "      border-radius: 50%;\n",
              "      cursor: pointer;\n",
              "      display: none;\n",
              "      fill: #1967D2;\n",
              "      height: 32px;\n",
              "      padding: 0 0 0 0;\n",
              "      width: 32px;\n",
              "    }\n",
              "\n",
              "    .colab-df-convert:hover {\n",
              "      background-color: #E2EBFA;\n",
              "      box-shadow: 0px 1px 2px rgba(60, 64, 67, 0.3), 0px 1px 3px 1px rgba(60, 64, 67, 0.15);\n",
              "      fill: #174EA6;\n",
              "    }\n",
              "\n",
              "    .colab-df-buttons div {\n",
              "      margin-bottom: 4px;\n",
              "    }\n",
              "\n",
              "    [theme=dark] .colab-df-convert {\n",
              "      background-color: #3B4455;\n",
              "      fill: #D2E3FC;\n",
              "    }\n",
              "\n",
              "    [theme=dark] .colab-df-convert:hover {\n",
              "      background-color: #434B5C;\n",
              "      box-shadow: 0px 1px 3px 1px rgba(0, 0, 0, 0.15);\n",
              "      filter: drop-shadow(0px 1px 2px rgba(0, 0, 0, 0.3));\n",
              "      fill: #FFFFFF;\n",
              "    }\n",
              "  </style>\n",
              "\n",
              "    <script>\n",
              "      const buttonEl =\n",
              "        document.querySelector('#df-c57e84ce-0066-49d3-ba1e-28a1285a8932 button.colab-df-convert');\n",
              "      buttonEl.style.display =\n",
              "        google.colab.kernel.accessAllowed ? 'block' : 'none';\n",
              "\n",
              "      async function convertToInteractive(key) {\n",
              "        const element = document.querySelector('#df-c57e84ce-0066-49d3-ba1e-28a1285a8932');\n",
              "        const dataTable =\n",
              "          await google.colab.kernel.invokeFunction('convertToInteractive',\n",
              "                                                    [key], {});\n",
              "        if (!dataTable) return;\n",
              "\n",
              "        const docLinkHtml = 'Like what you see? Visit the ' +\n",
              "          '<a target=\"_blank\" href=https://colab.research.google.com/notebooks/data_table.ipynb>data table notebook</a>'\n",
              "          + ' to learn more about interactive tables.';\n",
              "        element.innerHTML = '';\n",
              "        dataTable['output_type'] = 'display_data';\n",
              "        await google.colab.output.renderOutput(dataTable, element);\n",
              "        const docLink = document.createElement('div');\n",
              "        docLink.innerHTML = docLinkHtml;\n",
              "        element.appendChild(docLink);\n",
              "      }\n",
              "    </script>\n",
              "  </div>\n",
              "\n",
              "\n",
              "<div id=\"df-42f3a618-a8a1-4e92-97cb-89a0a4ff4e88\">\n",
              "  <button class=\"colab-df-quickchart\" onclick=\"quickchart('df-42f3a618-a8a1-4e92-97cb-89a0a4ff4e88')\"\n",
              "            title=\"Suggest charts\"\n",
              "            style=\"display:none;\">\n",
              "\n",
              "<svg xmlns=\"http://www.w3.org/2000/svg\" height=\"24px\"viewBox=\"0 0 24 24\"\n",
              "     width=\"24px\">\n",
              "    <g>\n",
              "        <path d=\"M19 3H5c-1.1 0-2 .9-2 2v14c0 1.1.9 2 2 2h14c1.1 0 2-.9 2-2V5c0-1.1-.9-2-2-2zM9 17H7v-7h2v7zm4 0h-2V7h2v10zm4 0h-2v-4h2v4z\"/>\n",
              "    </g>\n",
              "</svg>\n",
              "  </button>\n",
              "\n",
              "<style>\n",
              "  .colab-df-quickchart {\n",
              "      --bg-color: #E8F0FE;\n",
              "      --fill-color: #1967D2;\n",
              "      --hover-bg-color: #E2EBFA;\n",
              "      --hover-fill-color: #174EA6;\n",
              "      --disabled-fill-color: #AAA;\n",
              "      --disabled-bg-color: #DDD;\n",
              "  }\n",
              "\n",
              "  [theme=dark] .colab-df-quickchart {\n",
              "      --bg-color: #3B4455;\n",
              "      --fill-color: #D2E3FC;\n",
              "      --hover-bg-color: #434B5C;\n",
              "      --hover-fill-color: #FFFFFF;\n",
              "      --disabled-bg-color: #3B4455;\n",
              "      --disabled-fill-color: #666;\n",
              "  }\n",
              "\n",
              "  .colab-df-quickchart {\n",
              "    background-color: var(--bg-color);\n",
              "    border: none;\n",
              "    border-radius: 50%;\n",
              "    cursor: pointer;\n",
              "    display: none;\n",
              "    fill: var(--fill-color);\n",
              "    height: 32px;\n",
              "    padding: 0;\n",
              "    width: 32px;\n",
              "  }\n",
              "\n",
              "  .colab-df-quickchart:hover {\n",
              "    background-color: var(--hover-bg-color);\n",
              "    box-shadow: 0 1px 2px rgba(60, 64, 67, 0.3), 0 1px 3px 1px rgba(60, 64, 67, 0.15);\n",
              "    fill: var(--button-hover-fill-color);\n",
              "  }\n",
              "\n",
              "  .colab-df-quickchart-complete:disabled,\n",
              "  .colab-df-quickchart-complete:disabled:hover {\n",
              "    background-color: var(--disabled-bg-color);\n",
              "    fill: var(--disabled-fill-color);\n",
              "    box-shadow: none;\n",
              "  }\n",
              "\n",
              "  .colab-df-spinner {\n",
              "    border: 2px solid var(--fill-color);\n",
              "    border-color: transparent;\n",
              "    border-bottom-color: var(--fill-color);\n",
              "    animation:\n",
              "      spin 1s steps(1) infinite;\n",
              "  }\n",
              "\n",
              "  @keyframes spin {\n",
              "    0% {\n",
              "      border-color: transparent;\n",
              "      border-bottom-color: var(--fill-color);\n",
              "      border-left-color: var(--fill-color);\n",
              "    }\n",
              "    20% {\n",
              "      border-color: transparent;\n",
              "      border-left-color: var(--fill-color);\n",
              "      border-top-color: var(--fill-color);\n",
              "    }\n",
              "    30% {\n",
              "      border-color: transparent;\n",
              "      border-left-color: var(--fill-color);\n",
              "      border-top-color: var(--fill-color);\n",
              "      border-right-color: var(--fill-color);\n",
              "    }\n",
              "    40% {\n",
              "      border-color: transparent;\n",
              "      border-right-color: var(--fill-color);\n",
              "      border-top-color: var(--fill-color);\n",
              "    }\n",
              "    60% {\n",
              "      border-color: transparent;\n",
              "      border-right-color: var(--fill-color);\n",
              "    }\n",
              "    80% {\n",
              "      border-color: transparent;\n",
              "      border-right-color: var(--fill-color);\n",
              "      border-bottom-color: var(--fill-color);\n",
              "    }\n",
              "    90% {\n",
              "      border-color: transparent;\n",
              "      border-bottom-color: var(--fill-color);\n",
              "    }\n",
              "  }\n",
              "</style>\n",
              "\n",
              "  <script>\n",
              "    async function quickchart(key) {\n",
              "      const quickchartButtonEl =\n",
              "        document.querySelector('#' + key + ' button');\n",
              "      quickchartButtonEl.disabled = true;  // To prevent multiple clicks.\n",
              "      quickchartButtonEl.classList.add('colab-df-spinner');\n",
              "      try {\n",
              "        const charts = await google.colab.kernel.invokeFunction(\n",
              "            'suggestCharts', [key], {});\n",
              "      } catch (error) {\n",
              "        console.error('Error during call to suggestCharts:', error);\n",
              "      }\n",
              "      quickchartButtonEl.classList.remove('colab-df-spinner');\n",
              "      quickchartButtonEl.classList.add('colab-df-quickchart-complete');\n",
              "    }\n",
              "    (() => {\n",
              "      let quickchartButtonEl =\n",
              "        document.querySelector('#df-42f3a618-a8a1-4e92-97cb-89a0a4ff4e88 button');\n",
              "      quickchartButtonEl.style.display =\n",
              "        google.colab.kernel.accessAllowed ? 'block' : 'none';\n",
              "    })();\n",
              "  </script>\n",
              "</div>\n",
              "\n",
              "  <div id=\"id_92e02708-97fa-4dfa-a403-f46614aafff3\">\n",
              "    <style>\n",
              "      .colab-df-generate {\n",
              "        background-color: #E8F0FE;\n",
              "        border: none;\n",
              "        border-radius: 50%;\n",
              "        cursor: pointer;\n",
              "        display: none;\n",
              "        fill: #1967D2;\n",
              "        height: 32px;\n",
              "        padding: 0 0 0 0;\n",
              "        width: 32px;\n",
              "      }\n",
              "\n",
              "      .colab-df-generate:hover {\n",
              "        background-color: #E2EBFA;\n",
              "        box-shadow: 0px 1px 2px rgba(60, 64, 67, 0.3), 0px 1px 3px 1px rgba(60, 64, 67, 0.15);\n",
              "        fill: #174EA6;\n",
              "      }\n",
              "\n",
              "      [theme=dark] .colab-df-generate {\n",
              "        background-color: #3B4455;\n",
              "        fill: #D2E3FC;\n",
              "      }\n",
              "\n",
              "      [theme=dark] .colab-df-generate:hover {\n",
              "        background-color: #434B5C;\n",
              "        box-shadow: 0px 1px 3px 1px rgba(0, 0, 0, 0.15);\n",
              "        filter: drop-shadow(0px 1px 2px rgba(0, 0, 0, 0.3));\n",
              "        fill: #FFFFFF;\n",
              "      }\n",
              "    </style>\n",
              "    <button class=\"colab-df-generate\" onclick=\"generateWithVariable('df')\"\n",
              "            title=\"Generate code using this dataframe.\"\n",
              "            style=\"display:none;\">\n",
              "\n",
              "  <svg xmlns=\"http://www.w3.org/2000/svg\" height=\"24px\"viewBox=\"0 0 24 24\"\n",
              "       width=\"24px\">\n",
              "    <path d=\"M7,19H8.4L18.45,9,17,7.55,7,17.6ZM5,21V16.75L18.45,3.32a2,2,0,0,1,2.83,0l1.4,1.43a1.91,1.91,0,0,1,.58,1.4,1.91,1.91,0,0,1-.58,1.4L9.25,21ZM18.45,9,17,7.55Zm-12,3A5.31,5.31,0,0,0,4.9,8.1,5.31,5.31,0,0,0,1,6.5,5.31,5.31,0,0,0,4.9,4.9,5.31,5.31,0,0,0,6.5,1,5.31,5.31,0,0,0,8.1,4.9,5.31,5.31,0,0,0,12,6.5,5.46,5.46,0,0,0,6.5,12Z\"/>\n",
              "  </svg>\n",
              "    </button>\n",
              "    <script>\n",
              "      (() => {\n",
              "      const buttonEl =\n",
              "        document.querySelector('#id_92e02708-97fa-4dfa-a403-f46614aafff3 button.colab-df-generate');\n",
              "      buttonEl.style.display =\n",
              "        google.colab.kernel.accessAllowed ? 'block' : 'none';\n",
              "\n",
              "      buttonEl.onclick = () => {\n",
              "        google.colab.notebook.generateWithVariable('df');\n",
              "      }\n",
              "      })();\n",
              "    </script>\n",
              "  </div>\n",
              "\n",
              "    </div>\n",
              "  </div>\n"
            ]
          },
          "metadata": {},
          "execution_count": 176
        }
      ]
    },
    {
      "cell_type": "markdown",
      "source": [
        "Eliminamos los NaN y modificamos la columna Decisión Política Monetaria y la hacemos categórica"
      ],
      "metadata": {
        "id": "1r0EOeBkm-Dk"
      }
    },
    {
      "cell_type": "code",
      "source": [
        "df=df[['Fed Target Rate', 'Effective Fed Funds Rate', \"Decisión Política Monetaria\",'Tasa 3 Meses', 'Dovish','Hawkish','Neutral']].dropna(how='any')\n",
        "df['Decisión Política Monetaria'] = np.where(df['Decisión Política Monetaria'] > 0.001, 1, np.where(df['Decisión Política Monetaria'] < -0.001, -1, 0))"
      ],
      "metadata": {
        "id": "M6gAQ0A9HOM1"
      },
      "execution_count": null,
      "outputs": []
    },
    {
      "cell_type": "markdown",
      "source": [
        "Grafico con las decisiones tomadas por la Fed"
      ],
      "metadata": {
        "id": "fo98VRvs5xXy"
      }
    },
    {
      "cell_type": "code",
      "source": [
        "df[\"Decisión Política Monetaria\"].plot()"
      ],
      "metadata": {
        "id": "EIXNzbUj01Gg",
        "colab": {
          "base_uri": "https://localhost:8080/",
          "height": 439
        },
        "outputId": "1eb3e932-5900-4e3d-f115-240d6b2b7f5d"
      },
      "execution_count": null,
      "outputs": [
        {
          "output_type": "execute_result",
          "data": {
            "text/plain": [
              "<Axes: xlabel='index'>"
            ]
          },
          "metadata": {},
          "execution_count": 178
        },
        {
          "output_type": "display_data",
          "data": {
            "text/plain": [
              "<Figure size 640x480 with 1 Axes>"
            ],
            "image/png": "[encoded data removed]"
          },
          "metadata": {}
        }
      ]
    },
    {
      "cell_type": "code",
      "source": [
        "df"
      ],
      "metadata": {
        "id": "hcbaDNGFK_Pg",
        "colab": {
          "base_uri": "https://localhost:8080/",
          "height": 455
        },
        "outputId": "e2277123-e2d4-4a97-8e73-1a83e57875b6"
      },
      "execution_count": null,
      "outputs": [
        {
          "output_type": "execute_result",
          "data": {
            "text/plain": [
              "            Fed Target Rate  Effective Fed Funds Rate  \\\n",
              "index                                                   \n",
              "1995-02-01            6.000                      6.28   \n",
              "1995-03-28            6.000                      5.97   \n",
              "1995-05-23            5.750                      5.78   \n",
              "1995-07-06            5.750                      5.72   \n",
              "1995-08-22            5.750                      5.93   \n",
              "...                     ...                       ...   \n",
              "2023-05-03            5.125                      5.08   \n",
              "2023-06-14            5.125                      5.08   \n",
              "2023-07-26            5.375                      5.33   \n",
              "2023-09-20            5.375                      5.33   \n",
              "2023-11-01            5.375                      5.33   \n",
              "\n",
              "            Decisión Política Monetaria  Tasa 3 Meses    Dovish   Hawkish  \\\n",
              "index                                                                       \n",
              "1995-02-01                            0          5.70  0.041030  0.309371   \n",
              "1995-03-28                            0          5.66  0.127621  0.207176   \n",
              "1995-05-23                           -1          5.36  0.190530  0.221339   \n",
              "1995-07-06                            0          5.31  0.207284  0.187037   \n",
              "1995-08-22                            0          5.26  0.132782  0.176945   \n",
              "...                                 ...           ...       ...       ...   \n",
              "2023-05-03                            0          5.21  0.137240  0.373069   \n",
              "2023-06-14                            1          5.23  0.100451  0.410815   \n",
              "2023-07-26                            0          5.29  0.158601  0.479939   \n",
              "2023-09-20                            0          5.35  0.135375  0.452688   \n",
              "2023-11-01                            0          5.27  0.098530  0.503840   \n",
              "\n",
              "             Neutral  \n",
              "index                 \n",
              "1995-02-01  0.649599  \n",
              "1995-03-28  0.665203  \n",
              "1995-05-23  0.588130  \n",
              "1995-07-06  0.605679  \n",
              "1995-08-22  0.690272  \n",
              "...              ...  \n",
              "2023-05-03  0.489690  \n",
              "2023-06-14  0.488733  \n",
              "2023-07-26  0.361460  \n",
              "2023-09-20  0.411937  \n",
              "2023-11-01  0.397630  \n",
              "\n",
              "[230 rows x 7 columns]"
            ],
            "text/html": [
              "\n",
              "  <div id=\"df-ad02cf94-6a68-4137-83c3-7ff12c7f18f8\" class=\"colab-df-container\">\n",
              "    <div>\n",
              "<style scoped>\n",
              "    .dataframe tbody tr th:only-of-type {\n",
              "        vertical-align: middle;\n",
              "    }\n",
              "\n",
              "    .dataframe tbody tr th {\n",
              "        vertical-align: top;\n",
              "    }\n",
              "\n",
              "    .dataframe thead th {\n",
              "        text-align: right;\n",
              "    }\n",
              "</style>\n",
              "<table border=\"1\" class=\"dataframe\">\n",
              "  <thead>\n",
              "    <tr style=\"text-align: right;\">\n",
              "      <th></th>\n",
              "      <th>Fed Target Rate</th>\n",
              "      <th>Effective Fed Funds Rate</th>\n",
              "      <th>Decisión Política Monetaria</th>\n",
              "      <th>Tasa 3 Meses</th>\n",
              "      <th>Dovish</th>\n",
              "      <th>Hawkish</th>\n",
              "      <th>Neutral</th>\n",
              "    </tr>\n",
              "    <tr>\n",
              "      <th>index</th>\n",
              "      <th></th>\n",
              "      <th></th>\n",
              "      <th></th>\n",
              "      <th></th>\n",
              "      <th></th>\n",
              "      <th></th>\n",
              "      <th></th>\n",
              "    </tr>\n",
              "  </thead>\n",
              "  <tbody>\n",
              "    <tr>\n",
              "      <th>1995-02-01</th>\n",
              "      <td>6.000</td>\n",
              "      <td>6.28</td>\n",
              "      <td>0</td>\n",
              "      <td>5.70</td>\n",
              "      <td>0.041030</td>\n",
              "      <td>0.309371</td>\n",
              "      <td>0.649599</td>\n",
              "    </tr>\n",
              "    <tr>\n",
              "      <th>1995-03-28</th>\n",
              "      <td>6.000</td>\n",
              "      <td>5.97</td>\n",
              "      <td>0</td>\n",
              "      <td>5.66</td>\n",
              "      <td>0.127621</td>\n",
              "      <td>0.207176</td>\n",
              "      <td>0.665203</td>\n",
              "    </tr>\n",
              "    <tr>\n",
              "      <th>1995-05-23</th>\n",
              "      <td>5.750</td>\n",
              "      <td>5.78</td>\n",
              "      <td>-1</td>\n",
              "      <td>5.36</td>\n",
              "      <td>0.190530</td>\n",
              "      <td>0.221339</td>\n",
              "      <td>0.588130</td>\n",
              "    </tr>\n",
              "    <tr>\n",
              "      <th>1995-07-06</th>\n",
              "      <td>5.750</td>\n",
              "      <td>5.72</td>\n",
              "      <td>0</td>\n",
              "      <td>5.31</td>\n",
              "      <td>0.207284</td>\n",
              "      <td>0.187037</td>\n",
              "      <td>0.605679</td>\n",
              "    </tr>\n",
              "    <tr>\n",
              "      <th>1995-08-22</th>\n",
              "      <td>5.750</td>\n",
              "      <td>5.93</td>\n",
              "      <td>0</td>\n",
              "      <td>5.26</td>\n",
              "      <td>0.132782</td>\n",
              "      <td>0.176945</td>\n",
              "      <td>0.690272</td>\n",
              "    </tr>\n",
              "    <tr>\n",
              "      <th>...</th>\n",
              "      <td>...</td>\n",
              "      <td>...</td>\n",
              "      <td>...</td>\n",
              "      <td>...</td>\n",
              "      <td>...</td>\n",
              "      <td>...</td>\n",
              "      <td>...</td>\n",
              "    </tr>\n",
              "    <tr>\n",
              "      <th>2023-05-03</th>\n",
              "      <td>5.125</td>\n",
              "      <td>5.08</td>\n",
              "      <td>0</td>\n",
              "      <td>5.21</td>\n",
              "      <td>0.137240</td>\n",
              "      <td>0.373069</td>\n",
              "      <td>0.489690</td>\n",
              "    </tr>\n",
              "    <tr>\n",
              "      <th>2023-06-14</th>\n",
              "      <td>5.125</td>\n",
              "      <td>5.08</td>\n",
              "      <td>1</td>\n",
              "      <td>5.23</td>\n",
              "      <td>0.100451</td>\n",
              "      <td>0.410815</td>\n",
              "      <td>0.488733</td>\n",
              "    </tr>\n",
              "    <tr>\n",
              "      <th>2023-07-26</th>\n",
              "      <td>5.375</td>\n",
              "      <td>5.33</td>\n",
              "      <td>0</td>\n",
              "      <td>5.29</td>\n",
              "      <td>0.158601</td>\n",
              "      <td>0.479939</td>\n",
              "      <td>0.361460</td>\n",
              "    </tr>\n",
              "    <tr>\n",
              "      <th>2023-09-20</th>\n",
              "      <td>5.375</td>\n",
              "      <td>5.33</td>\n",
              "      <td>0</td>\n",
              "      <td>5.35</td>\n",
              "      <td>0.135375</td>\n",
              "      <td>0.452688</td>\n",
              "      <td>0.411937</td>\n",
              "    </tr>\n",
              "    <tr>\n",
              "      <th>2023-11-01</th>\n",
              "      <td>5.375</td>\n",
              "      <td>5.33</td>\n",
              "      <td>0</td>\n",
              "      <td>5.27</td>\n",
              "      <td>0.098530</td>\n",
              "      <td>0.503840</td>\n",
              "      <td>0.397630</td>\n",
              "    </tr>\n",
              "  </tbody>\n",
              "</table>\n",
              "<p>230 rows × 7 columns</p>\n",
              "</div>\n",
              "    <div class=\"colab-df-buttons\">\n",
              "\n",
              "  <div class=\"colab-df-container\">\n",
              "    <button class=\"colab-df-convert\" onclick=\"convertToInteractive('df-ad02cf94-6a68-4137-83c3-7ff12c7f18f8')\"\n",
              "            title=\"Convert this dataframe to an interactive table.\"\n",
              "            style=\"display:none;\">\n",
              "\n",
              "  <svg xmlns=\"http://www.w3.org/2000/svg\" height=\"24px\" viewBox=\"0 -960 960 960\">\n",
              "    <path d=\"M120-120v-720h720v720H120Zm60-500h600v-160H180v160Zm220 220h160v-160H400v160Zm0 220h160v-160H400v160ZM180-400h160v-160H180v160Zm440 0h160v-160H620v160ZM180-180h160v-160H180v160Zm440 0h160v-160H620v160Z\"/>\n",
              "  </svg>\n",
              "    </button>\n",
              "\n",
              "  <style>\n",
              "    .colab-df-container {\n",
              "      display:flex;\n",
              "      gap: 12px;\n",
              "    }\n",
              "\n",
              "    .colab-df-convert {\n",
              "      background-color: #E8F0FE;\n",
              "      border: none;\n",
              "      border-radius: 50%;\n",
              "      cursor: pointer;\n",
              "      display: none;\n",
              "      fill: #1967D2;\n",
              "      height: 32px;\n",
              "      padding: 0 0 0 0;\n",
              "      width: 32px;\n",
              "    }\n",
              "\n",
              "    .colab-df-convert:hover {\n",
              "      background-color: #E2EBFA;\n",
              "      box-shadow: 0px 1px 2px rgba(60, 64, 67, 0.3), 0px 1px 3px 1px rgba(60, 64, 67, 0.15);\n",
              "      fill: #174EA6;\n",
              "    }\n",
              "\n",
              "    .colab-df-buttons div {\n",
              "      margin-bottom: 4px;\n",
              "    }\n",
              "\n",
              "    [theme=dark] .colab-df-convert {\n",
              "      background-color: #3B4455;\n",
              "      fill: #D2E3FC;\n",
              "    }\n",
              "\n",
              "    [theme=dark] .colab-df-convert:hover {\n",
              "      background-color: #434B5C;\n",
              "      box-shadow: 0px 1px 3px 1px rgba(0, 0, 0, 0.15);\n",
              "      filter: drop-shadow(0px 1px 2px rgba(0, 0, 0, 0.3));\n",
              "      fill: #FFFFFF;\n",
              "    }\n",
              "  </style>\n",
              "\n",
              "    <script>\n",
              "      const buttonEl =\n",
              "        document.querySelector('#df-ad02cf94-6a68-4137-83c3-7ff12c7f18f8 button.colab-df-convert');\n",
              "      buttonEl.style.display =\n",
              "        google.colab.kernel.accessAllowed ? 'block' : 'none';\n",
              "\n",
              "      async function convertToInteractive(key) {\n",
              "        const element = document.querySelector('#df-ad02cf94-6a68-4137-83c3-7ff12c7f18f8');\n",
              "        const dataTable =\n",
              "          await google.colab.kernel.invokeFunction('convertToInteractive',\n",
              "                                                    [key], {});\n",
              "        if (!dataTable) return;\n",
              "\n",
              "        const docLinkHtml = 'Like what you see? Visit the ' +\n",
              "          '<a target=\"_blank\" href=https://colab.research.google.com/notebooks/data_table.ipynb>data table notebook</a>'\n",
              "          + ' to learn more about interactive tables.';\n",
              "        element.innerHTML = '';\n",
              "        dataTable['output_type'] = 'display_data';\n",
              "        await google.colab.output.renderOutput(dataTable, element);\n",
              "        const docLink = document.createElement('div');\n",
              "        docLink.innerHTML = docLinkHtml;\n",
              "        element.appendChild(docLink);\n",
              "      }\n",
              "    </script>\n",
              "  </div>\n",
              "\n",
              "\n",
              "<div id=\"df-06765588-240b-4c5f-89ec-a3e0543270fb\">\n",
              "  <button class=\"colab-df-quickchart\" onclick=\"quickchart('df-06765588-240b-4c5f-89ec-a3e0543270fb')\"\n",
              "            title=\"Suggest charts\"\n",
              "            style=\"display:none;\">\n",
              "\n",
              "<svg xmlns=\"http://www.w3.org/2000/svg\" height=\"24px\"viewBox=\"0 0 24 24\"\n",
              "     width=\"24px\">\n",
              "    <g>\n",
              "        <path d=\"M19 3H5c-1.1 0-2 .9-2 2v14c0 1.1.9 2 2 2h14c1.1 0 2-.9 2-2V5c0-1.1-.9-2-2-2zM9 17H7v-7h2v7zm4 0h-2V7h2v10zm4 0h-2v-4h2v4z\"/>\n",
              "    </g>\n",
              "</svg>\n",
              "  </button>\n",
              "\n",
              "<style>\n",
              "  .colab-df-quickchart {\n",
              "      --bg-color: #E8F0FE;\n",
              "      --fill-color: #1967D2;\n",
              "      --hover-bg-color: #E2EBFA;\n",
              "      --hover-fill-color: #174EA6;\n",
              "      --disabled-fill-color: #AAA;\n",
              "      --disabled-bg-color: #DDD;\n",
              "  }\n",
              "\n",
              "  [theme=dark] .colab-df-quickchart {\n",
              "      --bg-color: #3B4455;\n",
              "      --fill-color: #D2E3FC;\n",
              "      --hover-bg-color: #434B5C;\n",
              "      --hover-fill-color: #FFFFFF;\n",
              "      --disabled-bg-color: #3B4455;\n",
              "      --disabled-fill-color: #666;\n",
              "  }\n",
              "\n",
              "  .colab-df-quickchart {\n",
              "    background-color: var(--bg-color);\n",
              "    border: none;\n",
              "    border-radius: 50%;\n",
              "    cursor: pointer;\n",
              "    display: none;\n",
              "    fill: var(--fill-color);\n",
              "    height: 32px;\n",
              "    padding: 0;\n",
              "    width: 32px;\n",
              "  }\n",
              "\n",
              "  .colab-df-quickchart:hover {\n",
              "    background-color: var(--hover-bg-color);\n",
              "    box-shadow: 0 1px 2px rgba(60, 64, 67, 0.3), 0 1px 3px 1px rgba(60, 64, 67, 0.15);\n",
              "    fill: var(--button-hover-fill-color);\n",
              "  }\n",
              "\n",
              "  .colab-df-quickchart-complete:disabled,\n",
              "  .colab-df-quickchart-complete:disabled:hover {\n",
              "    background-color: var(--disabled-bg-color);\n",
              "    fill: var(--disabled-fill-color);\n",
              "    box-shadow: none;\n",
              "  }\n",
              "\n",
              "  .colab-df-spinner {\n",
              "    border: 2px solid var(--fill-color);\n",
              "    border-color: transparent;\n",
              "    border-bottom-color: var(--fill-color);\n",
              "    animation:\n",
              "      spin 1s steps(1) infinite;\n",
              "  }\n",
              "\n",
              "  @keyframes spin {\n",
              "    0% {\n",
              "      border-color: transparent;\n",
              "      border-bottom-color: var(--fill-color);\n",
              "      border-left-color: var(--fill-color);\n",
              "    }\n",
              "    20% {\n",
              "      border-color: transparent;\n",
              "      border-left-color: var(--fill-color);\n",
              "      border-top-color: var(--fill-color);\n",
              "    }\n",
              "    30% {\n",
              "      border-color: transparent;\n",
              "      border-left-color: var(--fill-color);\n",
              "      border-top-color: var(--fill-color);\n",
              "      border-right-color: var(--fill-color);\n",
              "    }\n",
              "    40% {\n",
              "      border-color: transparent;\n",
              "      border-right-color: var(--fill-color);\n",
              "      border-top-color: var(--fill-color);\n",
              "    }\n",
              "    60% {\n",
              "      border-color: transparent;\n",
              "      border-right-color: var(--fill-color);\n",
              "    }\n",
              "    80% {\n",
              "      border-color: transparent;\n",
              "      border-right-color: var(--fill-color);\n",
              "      border-bottom-color: var(--fill-color);\n",
              "    }\n",
              "    90% {\n",
              "      border-color: transparent;\n",
              "      border-bottom-color: var(--fill-color);\n",
              "    }\n",
              "  }\n",
              "</style>\n",
              "\n",
              "  <script>\n",
              "    async function quickchart(key) {\n",
              "      const quickchartButtonEl =\n",
              "        document.querySelector('#' + key + ' button');\n",
              "      quickchartButtonEl.disabled = true;  // To prevent multiple clicks.\n",
              "      quickchartButtonEl.classList.add('colab-df-spinner');\n",
              "      try {\n",
              "        const charts = await google.colab.kernel.invokeFunction(\n",
              "            'suggestCharts', [key], {});\n",
              "      } catch (error) {\n",
              "        console.error('Error during call to suggestCharts:', error);\n",
              "      }\n",
              "      quickchartButtonEl.classList.remove('colab-df-spinner');\n",
              "      quickchartButtonEl.classList.add('colab-df-quickchart-complete');\n",
              "    }\n",
              "    (() => {\n",
              "      let quickchartButtonEl =\n",
              "        document.querySelector('#df-06765588-240b-4c5f-89ec-a3e0543270fb button');\n",
              "      quickchartButtonEl.style.display =\n",
              "        google.colab.kernel.accessAllowed ? 'block' : 'none';\n",
              "    })();\n",
              "  </script>\n",
              "</div>\n",
              "\n",
              "  <div id=\"id_4428f47f-ecc8-45fd-af65-5e25161d59de\">\n",
              "    <style>\n",
              "      .colab-df-generate {\n",
              "        background-color: #E8F0FE;\n",
              "        border: none;\n",
              "        border-radius: 50%;\n",
              "        cursor: pointer;\n",
              "        display: none;\n",
              "        fill: #1967D2;\n",
              "        height: 32px;\n",
              "        padding: 0 0 0 0;\n",
              "        width: 32px;\n",
              "      }\n",
              "\n",
              "      .colab-df-generate:hover {\n",
              "        background-color: #E2EBFA;\n",
              "        box-shadow: 0px 1px 2px rgba(60, 64, 67, 0.3), 0px 1px 3px 1px rgba(60, 64, 67, 0.15);\n",
              "        fill: #174EA6;\n",
              "      }\n",
              "\n",
              "      [theme=dark] .colab-df-generate {\n",
              "        background-color: #3B4455;\n",
              "        fill: #D2E3FC;\n",
              "      }\n",
              "\n",
              "      [theme=dark] .colab-df-generate:hover {\n",
              "        background-color: #434B5C;\n",
              "        box-shadow: 0px 1px 3px 1px rgba(0, 0, 0, 0.15);\n",
              "        filter: drop-shadow(0px 1px 2px rgba(0, 0, 0, 0.3));\n",
              "        fill: #FFFFFF;\n",
              "      }\n",
              "    </style>\n",
              "    <button class=\"colab-df-generate\" onclick=\"generateWithVariable('df')\"\n",
              "            title=\"Generate code using this dataframe.\"\n",
              "            style=\"display:none;\">\n",
              "\n",
              "  <svg xmlns=\"http://www.w3.org/2000/svg\" height=\"24px\"viewBox=\"0 0 24 24\"\n",
              "       width=\"24px\">\n",
              "    <path d=\"M7,19H8.4L18.45,9,17,7.55,7,17.6ZM5,21V16.75L18.45,3.32a2,2,0,0,1,2.83,0l1.4,1.43a1.91,1.91,0,0,1,.58,1.4,1.91,1.91,0,0,1-.58,1.4L9.25,21ZM18.45,9,17,7.55Zm-12,3A5.31,5.31,0,0,0,4.9,8.1,5.31,5.31,0,0,0,1,6.5,5.31,5.31,0,0,0,4.9,4.9,5.31,5.31,0,0,0,6.5,1,5.31,5.31,0,0,0,8.1,4.9,5.31,5.31,0,0,0,12,6.5,5.46,5.46,0,0,0,6.5,12Z\"/>\n",
              "  </svg>\n",
              "    </button>\n",
              "    <script>\n",
              "      (() => {\n",
              "      const buttonEl =\n",
              "        document.querySelector('#id_4428f47f-ecc8-45fd-af65-5e25161d59de button.colab-df-generate');\n",
              "      buttonEl.style.display =\n",
              "        google.colab.kernel.accessAllowed ? 'block' : 'none';\n",
              "\n",
              "      buttonEl.onclick = () => {\n",
              "        google.colab.notebook.generateWithVariable('df');\n",
              "      }\n",
              "      })();\n",
              "    </script>\n",
              "  </div>\n",
              "\n",
              "    </div>\n",
              "  </div>\n"
            ]
          },
          "metadata": {},
          "execution_count": 179
        }
      ]
    },
    {
      "cell_type": "markdown",
      "source": [
        "Dividimos los datos en 3 dataset distintos: Train, Test & Validation\n",
        "\n",
        "A los datos los balanceamos y a las columnas categóricas las convertimos a un formato \"one-hot encoding\""
      ],
      "metadata": {
        "id": "h0WNpX-C811c"
      }
    },
    {
      "cell_type": "markdown",
      "source": [
        "### Division de Fechas"
      ],
      "metadata": {
        "id": "s6HKa4Tr3m1K"
      }
    },
    {
      "cell_type": "code",
      "source": [
        "train_end_date = pd.Timestamp('2017-12-31')\n",
        "val_start_date = pd.Timestamp('2018-01-01')\n",
        "val_end_date = pd.Timestamp('2018-12-31')\n",
        "train_set = df[df.index <= train_end_date]\n"
      ],
      "metadata": {
        "id": "BGC-yzqP3aJj"
      },
      "execution_count": null,
      "outputs": []
    },
    {
      "cell_type": "markdown",
      "source": [
        "###Train"
      ],
      "metadata": {
        "id": "JoVMi-2M3tUB"
      }
    },
    {
      "cell_type": "code",
      "source": [
        "X_train=train_set.drop(columns=['Decisión Política Monetaria'])\n",
        "y_train1=train_set['Decisión Política Monetaria']\n",
        "y_train_logistic=y_train1.astype(int)\n"
      ],
      "metadata": {
        "id": "-lW-25Js3x0q"
      },
      "execution_count": null,
      "outputs": []
    },
    {
      "cell_type": "markdown",
      "source": [
        "### Validation"
      ],
      "metadata": {
        "id": "KP20T30R34Wn"
      }
    },
    {
      "cell_type": "code",
      "source": [
        "val_train_set = df[(df.index >= val_start_date) & (df.index <= val_end_date)]\n",
        "X_val=val_train_set.drop(columns=['Decisión Política Monetaria'])\n",
        "y_val1=val_train_set['Decisión Política Monetaria']\n",
        "y_val=to_categorical(y_val1,num_classes=3)"
      ],
      "metadata": {
        "id": "ivkDKP104Cqt"
      },
      "execution_count": null,
      "outputs": []
    },
    {
      "cell_type": "markdown",
      "source": [
        "### Test"
      ],
      "metadata": {
        "id": "FG6mR-yo4GHI"
      }
    },
    {
      "cell_type": "code",
      "source": [
        "test_set = df[df.index > val_end_date]\n",
        "X_test=test_set.drop(columns=['Decisión Política Monetaria'])\n",
        "y_test=test_set['Decisión Política Monetaria']\n",
        "y_test1=test_set['Decisión Política Monetaria']\n",
        "y_test=to_categorical(y_test1,num_classes=3)"
      ],
      "metadata": {
        "id": "k70FkW4y4M22"
      },
      "execution_count": null,
      "outputs": []
    },
    {
      "cell_type": "markdown",
      "source": [
        "### Balanceado (SMOTE)"
      ],
      "metadata": {
        "id": "zv_2liA64O_x"
      }
    },
    {
      "cell_type": "code",
      "source": [
        "smote = SMOTE(random_state=42)\n",
        "X_train_smote, y_train_smote = smote.fit_resample(X_train, y_train1)"
      ],
      "metadata": {
        "id": "9PlsFR4R4Zal"
      },
      "execution_count": null,
      "outputs": []
    },
    {
      "cell_type": "markdown",
      "source": [
        "### Categorical"
      ],
      "metadata": {
        "id": "iQuYWXG98YjU"
      }
    },
    {
      "cell_type": "code",
      "source": [
        "y_train=to_categorical(y_train_smote,num_classes=3)"
      ],
      "metadata": {
        "id": "5Z_rkFjN8W7-"
      },
      "execution_count": null,
      "outputs": []
    },
    {
      "cell_type": "markdown",
      "source": [
        "###Logistic Regression data"
      ],
      "metadata": {
        "id": "gUSwmHJVPJLw"
      }
    },
    {
      "cell_type": "code",
      "source": [
        "X_train_logistic=X_train_smote[['Fed Target Rate', 'Effective Fed Funds Rate', 'Tasa 3 Meses']]\n",
        "X_test_logistic=X_test[['Fed Target Rate', 'Effective Fed Funds Rate','Tasa 3 Meses']]\n",
        "X_val_logistic=X_val[['Fed Target Rate', 'Effective Fed Funds Rate', 'Tasa 3 Meses']]\n"
      ],
      "metadata": {
        "id": "K9OboripPKZ9"
      },
      "execution_count": null,
      "outputs": []
    },
    {
      "cell_type": "markdown",
      "source": [
        "Funciones:\n",
        "\n",
        "- Matriz de confusión\n",
        "\n",
        "- Métricas importantes"
      ],
      "metadata": {
        "id": "bvUnCygq9D0b"
      }
    },
    {
      "cell_type": "code",
      "source": [
        "def confusion_matrix_graph(y_test, y_pred):\n",
        "\n",
        "  conf_matrix = confusion_matrix(y_test, y_pred)\n",
        "\n",
        "  # Display the confusion matrix\n",
        "  plt.figure(figsize=(8, 6))\n",
        "  sns.heatmap(conf_matrix, annot=True, fmt='d', cmap='Blues', cbar=False,\n",
        "              xticklabels=['Class -1', 'Class 0', 'Class 1'],\n",
        "              yticklabels=['Class -1', 'Class 0', 'Class 1'])\n",
        "  plt.xlabel('Predicted')\n",
        "  plt.ylabel('Actual')\n",
        "  plt.title('Confusion Matrix')\n",
        "  plt.show()"
      ],
      "metadata": {
        "id": "gfPQPPAta6Gl"
      },
      "execution_count": null,
      "outputs": []
    },
    {
      "cell_type": "code",
      "source": [
        "def metricas(y, y_pred, y_proba):\n",
        "    metrics_dict = {\n",
        "        \"accuracy\": accuracy_score(y, y_pred),\n",
        "        \"f1\": f1_score(y, y_pred, average='macro'),\n",
        "        \"recall\": recall_score(y, y_pred, average='macro'),\n",
        "        \"precision\": precision_score(y, y_pred, average='macro'),\n",
        "        \"roc_auc_score\": roc_auc_score(y, y_proba, multi_class='ovo'),\n",
        "        \"log_loss\": log_loss(y, y_proba)\n",
        "    }\n",
        "\n",
        "    metrics_series = pd.Series(metrics_dict)\n",
        "\n",
        "    # # Plot bar graph\n",
        "    plt.figure(figsize=(7, 7))\n",
        "    ax = metrics_series.plot(kind='bar', colormap='viridis', edgecolor='white', alpha=0.7)\n",
        "\n",
        "    plt.title('Classification Metrics by Class')\n",
        "    plt.ylabel('Metric Value')\n",
        "    plt.xlabel('Class')\n",
        "    plt.xticks(rotation=0)\n",
        "    ax.legend(loc='upper left', bbox_to_anchor=(1, 1))\n",
        "    plt.show()\n",
        "\n",
        "    return metrics_series"
      ],
      "metadata": {
        "id": "_avbCb6r9ZBs"
      },
      "execution_count": null,
      "outputs": []
    },
    {
      "cell_type": "code",
      "source": [
        "def metricas_comparacion(y, y_pred_1, y_proba_1, y_pred_2, y_proba_2):\n",
        "    metrics_dict_1 = {\n",
        "        \"accuracy\": accuracy_score(y, y_pred_1),\n",
        "        \"f1\": f1_score(y, y_pred_1, average='macro'),\n",
        "        \"recall\": recall_score(y, y_pred_1, average='macro'),\n",
        "        \"precision\": precision_score(y, y_pred_1, average='macro'),\n",
        "        \"roc_auc_score\": roc_auc_score(y, y_proba_1, multi_class='ovo'),\n",
        "        \"log_loss\": log_loss(y, y_proba_1)\n",
        "    }\n",
        "    metrics_dict_2 = {\n",
        "        \"accuracy\": accuracy_score(y, y_pred_2),\n",
        "        \"f1\": f1_score(y, y_pred_2, average='macro'),\n",
        "        \"recall\": recall_score(y, y_pred_2, average='macro'),\n",
        "        \"precision\": precision_score(y, y_pred_2, average='macro'),\n",
        "        \"roc_auc_score\": roc_auc_score(y, y_proba_2, multi_class='ovo'),\n",
        "        \"log_loss\": log_loss(y, y_proba_1)\n",
        "    }\n",
        "    metrics_series_1 = pd.Series(metrics_dict_1)\n",
        "    metrics_series_2 = pd.Series(metrics_dict_2)\n",
        "    df_final=pd.DataFrame({\"modelos 1\":metrics_series_1,\n",
        "                           \"Modelos 2\":metrics_series_2})\n",
        "        # Plotting both series on the same graph\n",
        "    plt.plot(metrics_series_1, label='Modelo 1', marker='o')\n",
        "    plt.plot(metrics_series_2, label='Modelo 2', marker='o')\n",
        "        # Adding labels and title\n",
        "    plt.xlabel('Categories')\n",
        "    plt.ylabel('Values')\n",
        "    plt.title('Comparison of Metrics 1 and Metrics 2')\n",
        "\n",
        "    # Adding legend\n",
        "    plt.legend()\n",
        "\n",
        "    # Display the plot\n",
        "    plt.show()\n",
        "    return df_final\n"
      ],
      "metadata": {
        "id": "_2-dCePGAEBp"
      },
      "execution_count": null,
      "outputs": []
    },
    {
      "cell_type": "markdown",
      "source": [
        "## Primer Modelo: Logistic Regression\n",
        "\n",
        "Analizamos los datos sin tener en cuenta las informacion provista por las minutas y usamos un modelo Lineal\n",
        "\n",
        "Para LogisticRegression usar:\n",
        "\n",
        "\n",
        "**Para entrenar:** X_train_logistic, y_train_smote\n",
        "\n",
        "**Para testear:** X_test_logistic, y_test1"
      ],
      "metadata": {
        "id": "1f_DmzfjEZwi"
      }
    },
    {
      "cell_type": "code",
      "source": [
        "lr = LogisticRegression(random_state=42, class_weight='balanced', fit_intercept=False)\n",
        "lr.fit(X_train, y_train_logistic)\n",
        "y_pred_1 = lr.predict(X_test)\n",
        "y_prob_1=lr.predict_proba(X_test)\n",
        "\n",
        "y_test1.value_counts()\n",
        "confusion_matrix_graph(y_test1, y_pred_1)\n"
      ],
      "metadata": {
        "id": "g9_M2jEwAghI",
        "colab": {
          "base_uri": "https://localhost:8080/",
          "height": 564
        },
        "outputId": "ba929c21-2560-4de4-d821-3a4ea5c52f52"
      },
      "execution_count": null,
      "outputs": [
        {
          "output_type": "display_data",
          "data": {
            "text/plain": [
              "<Figure size 800x600 with 1 Axes>"
            ],
            "image/png": "[encoded data removed]"
          },
          "metadata": {}
        }
      ]
    },
    {
      "cell_type": "code",
      "source": [
        "metricas(y_test1,y_pred_1,y_prob_1)"
      ],
      "metadata": {
        "id": "dgditm8bT6T7",
        "colab": {
          "base_uri": "https://localhost:8080/",
          "height": 800
        },
        "outputId": "ceb3448c-3817-4e67-94cc-4ed20011c28f"
      },
      "execution_count": null,
      "outputs": [
        {
          "output_type": "stream",
          "name": "stderr",
          "text": [
            "WARNING:matplotlib.legend:No artists with labels found to put in legend.  Note that artists whose label start with an underscore are ignored when legend() is called with no argument.\n"
          ]
        },
        {
          "output_type": "display_data",
          "data": {
            "text/plain": [
              "<Figure size 700x700 with 1 Axes>"
            ],
            "image/png": "[encoded data removed]"
          },
          "metadata": {}
        },
        {
          "output_type": "execute_result",
          "data": {
            "text/plain": [
              "accuracy         0.794872\n",
              "f1               0.668525\n",
              "recall           0.680556\n",
              "precision        0.698990\n",
              "roc_auc_score    0.896465\n",
              "log_loss         0.681274\n",
              "dtype: float64"
            ]
          },
          "metadata": {},
          "execution_count": 191
        }
      ]
    },
    {
      "cell_type": "markdown",
      "source": [
        "## Logistic regression Dovish, Hawkish, Neutral"
      ],
      "metadata": {
        "id": "nUPEZmsKaqjp"
      }
    },
    {
      "cell_type": "code",
      "source": [
        "lr = LogisticRegression(random_state=42)\n",
        "lr.fit(X_train_smote, y_train_smote)\n",
        "y_pred_2 = lr.predict(X_test)\n",
        "y_prob_2=lr.predict_proba(X_test)"
      ],
      "metadata": {
        "colab": {
          "base_uri": "https://localhost:8080/"
        },
        "id": "Tk32nV_DayAD",
        "outputId": "85517bf9-1255-4d5c-a2f9-45281ade4396"
      },
      "execution_count": null,
      "outputs": [
        {
          "output_type": "stream",
          "name": "stderr",
          "text": [
            "/usr/local/lib/python3.10/dist-packages/sklearn/linear_model/_logistic.py:458: ConvergenceWarning: lbfgs failed to converge (status=1):\n",
            "STOP: TOTAL NO. of ITERATIONS REACHED LIMIT.\n",
            "\n",
            "Increase the number of iterations (max_iter) or scale the data as shown in:\n",
            "    https://scikit-learn.org/stable/modules/preprocessing.html\n",
            "Please also refer to the documentation for alternative solver options:\n",
            "    https://scikit-learn.org/stable/modules/linear_model.html#logistic-regression\n",
            "  n_iter_i = _check_optimize_result(\n"
          ]
        }
      ]
    },
    {
      "cell_type": "code",
      "source": [
        "confusion_matrix_graph(y_test1, y_pred_2)"
      ],
      "metadata": {
        "colab": {
          "base_uri": "https://localhost:8080/",
          "height": 564
        },
        "id": "pIZ5bkI8ax9C",
        "outputId": "600e32dd-89eb-43a1-9488-442cdaa2d5e7"
      },
      "execution_count": null,
      "outputs": [
        {
          "output_type": "display_data",
          "data": {
            "text/plain": [
              "<Figure size 800x600 with 1 Axes>"
            ],
            "image/png": "[encoded data removed]"
          },
          "metadata": {}
        }
      ]
    },
    {
      "cell_type": "code",
      "source": [
        "metricas(y_test1,y_pred_2,y_prob_2)"
      ],
      "metadata": {
        "colab": {
          "base_uri": "https://localhost:8080/",
          "height": 800
        },
        "id": "DPYpda4jax5-",
        "outputId": "fe0862b9-cce5-402f-8135-3c444d3366cf"
      },
      "execution_count": null,
      "outputs": [
        {
          "output_type": "stream",
          "name": "stderr",
          "text": [
            "WARNING:matplotlib.legend:No artists with labels found to put in legend.  Note that artists whose label start with an underscore are ignored when legend() is called with no argument.\n"
          ]
        },
        {
          "output_type": "display_data",
          "data": {
            "text/plain": [
              "<Figure size 700x700 with 1 Axes>"
            ],
            "image/png": "[encoded data removed]"
          },
          "metadata": {}
        },
        {
          "output_type": "execute_result",
          "data": {
            "text/plain": [
              "accuracy         0.820513\n",
              "f1               0.699073\n",
              "recall           0.694444\n",
              "precision        0.867633\n",
              "roc_auc_score    0.904514\n",
              "log_loss         0.613623\n",
              "dtype: float64"
            ]
          },
          "metadata": {},
          "execution_count": 194
        }
      ]
    },
    {
      "cell_type": "code",
      "source": [
        "metricas_comparacion(y_test1,y_pred_1,y_prob_1,y_pred_2,y_prob_2)"
      ],
      "metadata": {
        "colab": {
          "base_uri": "https://localhost:8080/",
          "height": 692
        },
        "id": "N4YjrZ3baxrn",
        "outputId": "f24390e7-4067-46eb-95b3-31ed8f7368c9"
      },
      "execution_count": null,
      "outputs": [
        {
          "output_type": "display_data",
          "data": {
            "text/plain": [
              "<Figure size 640x480 with 1 Axes>"
            ],
            "image/png": "[encoded data removed]"
          },
          "metadata": {}
        },
        {
          "output_type": "execute_result",
          "data": {
            "text/plain": [
              "               modelos 1  Modelos 2\n",
              "accuracy        0.794872   0.820513\n",
              "f1              0.668525   0.699073\n",
              "recall          0.680556   0.694444\n",
              "precision       0.698990   0.867633\n",
              "roc_auc_score   0.896465   0.904514\n",
              "log_loss        0.681274   0.681274"
            ],
            "text/html": [
              "\n",
              "  <div id=\"df-382892a1-2f2b-495a-8333-86f24949fb4f\" class=\"colab-df-container\">\n",
              "    <div>\n",
              "<style scoped>\n",
              "    .dataframe tbody tr th:only-of-type {\n",
              "        vertical-align: middle;\n",
              "    }\n",
              "\n",
              "    .dataframe tbody tr th {\n",
              "        vertical-align: top;\n",
              "    }\n",
              "\n",
              "    .dataframe thead th {\n",
              "        text-align: right;\n",
              "    }\n",
              "</style>\n",
              "<table border=\"1\" class=\"dataframe\">\n",
              "  <thead>\n",
              "    <tr style=\"text-align: right;\">\n",
              "      <th></th>\n",
              "      <th>modelos 1</th>\n",
              "      <th>Modelos 2</th>\n",
              "    </tr>\n",
              "  </thead>\n",
              "  <tbody>\n",
              "    <tr>\n",
              "      <th>accuracy</th>\n",
              "      <td>0.794872</td>\n",
              "      <td>0.820513</td>\n",
              "    </tr>\n",
              "    <tr>\n",
              "      <th>f1</th>\n",
              "      <td>0.668525</td>\n",
              "      <td>0.699073</td>\n",
              "    </tr>\n",
              "    <tr>\n",
              "      <th>recall</th>\n",
              "      <td>0.680556</td>\n",
              "      <td>0.694444</td>\n",
              "    </tr>\n",
              "    <tr>\n",
              "      <th>precision</th>\n",
              "      <td>0.698990</td>\n",
              "      <td>0.867633</td>\n",
              "    </tr>\n",
              "    <tr>\n",
              "      <th>roc_auc_score</th>\n",
              "      <td>0.896465</td>\n",
              "      <td>0.904514</td>\n",
              "    </tr>\n",
              "    <tr>\n",
              "      <th>log_loss</th>\n",
              "      <td>0.681274</td>\n",
              "      <td>0.681274</td>\n",
              "    </tr>\n",
              "  </tbody>\n",
              "</table>\n",
              "</div>\n",
              "    <div class=\"colab-df-buttons\">\n",
              "\n",
              "  <div class=\"colab-df-container\">\n",
              "    <button class=\"colab-df-convert\" onclick=\"convertToInteractive('df-382892a1-2f2b-495a-8333-86f24949fb4f')\"\n",
              "            title=\"Convert this dataframe to an interactive table.\"\n",
              "            style=\"display:none;\">\n",
              "\n",
              "  <svg xmlns=\"http://www.w3.org/2000/svg\" height=\"24px\" viewBox=\"0 -960 960 960\">\n",
              "    <path d=\"M120-120v-720h720v720H120Zm60-500h600v-160H180v160Zm220 220h160v-160H400v160Zm0 220h160v-160H400v160ZM180-400h160v-160H180v160Zm440 0h160v-160H620v160ZM180-180h160v-160H180v160Zm440 0h160v-160H620v160Z\"/>\n",
              "  </svg>\n",
              "    </button>\n",
              "\n",
              "  <style>\n",
              "    .colab-df-container {\n",
              "      display:flex;\n",
              "      gap: 12px;\n",
              "    }\n",
              "\n",
              "    .colab-df-convert {\n",
              "      background-color: #E8F0FE;\n",
              "      border: none;\n",
              "      border-radius: 50%;\n",
              "      cursor: pointer;\n",
              "      display: none;\n",
              "      fill: #1967D2;\n",
              "      height: 32px;\n",
              "      padding: 0 0 0 0;\n",
              "      width: 32px;\n",
              "    }\n",
              "\n",
              "    .colab-df-convert:hover {\n",
              "      background-color: #E2EBFA;\n",
              "      box-shadow: 0px 1px 2px rgba(60, 64, 67, 0.3), 0px 1px 3px 1px rgba(60, 64, 67, 0.15);\n",
              "      fill: #174EA6;\n",
              "    }\n",
              "\n",
              "    .colab-df-buttons div {\n",
              "      margin-bottom: 4px;\n",
              "    }\n",
              "\n",
              "    [theme=dark] .colab-df-convert {\n",
              "      background-color: #3B4455;\n",
              "      fill: #D2E3FC;\n",
              "    }\n",
              "\n",
              "    [theme=dark] .colab-df-convert:hover {\n",
              "      background-color: #434B5C;\n",
              "      box-shadow: 0px 1px 3px 1px rgba(0, 0, 0, 0.15);\n",
              "      filter: drop-shadow(0px 1px 2px rgba(0, 0, 0, 0.3));\n",
              "      fill: #FFFFFF;\n",
              "    }\n",
              "  </style>\n",
              "\n",
              "    <script>\n",
              "      const buttonEl =\n",
              "        document.querySelector('#df-382892a1-2f2b-495a-8333-86f24949fb4f button.colab-df-convert');\n",
              "      buttonEl.style.display =\n",
              "        google.colab.kernel.accessAllowed ? 'block' : 'none';\n",
              "\n",
              "      async function convertToInteractive(key) {\n",
              "        const element = document.querySelector('#df-382892a1-2f2b-495a-8333-86f24949fb4f');\n",
              "        const dataTable =\n",
              "          await google.colab.kernel.invokeFunction('convertToInteractive',\n",
              "                                                    [key], {});\n",
              "        if (!dataTable) return;\n",
              "\n",
              "        const docLinkHtml = 'Like what you see? Visit the ' +\n",
              "          '<a target=\"_blank\" href=https://colab.research.google.com/notebooks/data_table.ipynb>data table notebook</a>'\n",
              "          + ' to learn more about interactive tables.';\n",
              "        element.innerHTML = '';\n",
              "        dataTable['output_type'] = 'display_data';\n",
              "        await google.colab.output.renderOutput(dataTable, element);\n",
              "        const docLink = document.createElement('div');\n",
              "        docLink.innerHTML = docLinkHtml;\n",
              "        element.appendChild(docLink);\n",
              "      }\n",
              "    </script>\n",
              "  </div>\n",
              "\n",
              "\n",
              "<div id=\"df-e8f8a46c-58bd-4b48-850e-efe2dcffa867\">\n",
              "  <button class=\"colab-df-quickchart\" onclick=\"quickchart('df-e8f8a46c-58bd-4b48-850e-efe2dcffa867')\"\n",
              "            title=\"Suggest charts\"\n",
              "            style=\"display:none;\">\n",
              "\n",
              "<svg xmlns=\"http://www.w3.org/2000/svg\" height=\"24px\"viewBox=\"0 0 24 24\"\n",
              "     width=\"24px\">\n",
              "    <g>\n",
              "        <path d=\"M19 3H5c-1.1 0-2 .9-2 2v14c0 1.1.9 2 2 2h14c1.1 0 2-.9 2-2V5c0-1.1-.9-2-2-2zM9 17H7v-7h2v7zm4 0h-2V7h2v10zm4 0h-2v-4h2v4z\"/>\n",
              "    </g>\n",
              "</svg>\n",
              "  </button>\n",
              "\n",
              "<style>\n",
              "  .colab-df-quickchart {\n",
              "      --bg-color: #E8F0FE;\n",
              "      --fill-color: #1967D2;\n",
              "      --hover-bg-color: #E2EBFA;\n",
              "      --hover-fill-color: #174EA6;\n",
              "      --disabled-fill-color: #AAA;\n",
              "      --disabled-bg-color: #DDD;\n",
              "  }\n",
              "\n",
              "  [theme=dark] .colab-df-quickchart {\n",
              "      --bg-color: #3B4455;\n",
              "      --fill-color: #D2E3FC;\n",
              "      --hover-bg-color: #434B5C;\n",
              "      --hover-fill-color: #FFFFFF;\n",
              "      --disabled-bg-color: #3B4455;\n",
              "      --disabled-fill-color: #666;\n",
              "  }\n",
              "\n",
              "  .colab-df-quickchart {\n",
              "    background-color: var(--bg-color);\n",
              "    border: none;\n",
              "    border-radius: 50%;\n",
              "    cursor: pointer;\n",
              "    display: none;\n",
              "    fill: var(--fill-color);\n",
              "    height: 32px;\n",
              "    padding: 0;\n",
              "    width: 32px;\n",
              "  }\n",
              "\n",
              "  .colab-df-quickchart:hover {\n",
              "    background-color: var(--hover-bg-color);\n",
              "    box-shadow: 0 1px 2px rgba(60, 64, 67, 0.3), 0 1px 3px 1px rgba(60, 64, 67, 0.15);\n",
              "    fill: var(--button-hover-fill-color);\n",
              "  }\n",
              "\n",
              "  .colab-df-quickchart-complete:disabled,\n",
              "  .colab-df-quickchart-complete:disabled:hover {\n",
              "    background-color: var(--disabled-bg-color);\n",
              "    fill: var(--disabled-fill-color);\n",
              "    box-shadow: none;\n",
              "  }\n",
              "\n",
              "  .colab-df-spinner {\n",
              "    border: 2px solid var(--fill-color);\n",
              "    border-color: transparent;\n",
              "    border-bottom-color: var(--fill-color);\n",
              "    animation:\n",
              "      spin 1s steps(1) infinite;\n",
              "  }\n",
              "\n",
              "  @keyframes spin {\n",
              "    0% {\n",
              "      border-color: transparent;\n",
              "      border-bottom-color: var(--fill-color);\n",
              "      border-left-color: var(--fill-color);\n",
              "    }\n",
              "    20% {\n",
              "      border-color: transparent;\n",
              "      border-left-color: var(--fill-color);\n",
              "      border-top-color: var(--fill-color);\n",
              "    }\n",
              "    30% {\n",
              "      border-color: transparent;\n",
              "      border-left-color: var(--fill-color);\n",
              "      border-top-color: var(--fill-color);\n",
              "      border-right-color: var(--fill-color);\n",
              "    }\n",
              "    40% {\n",
              "      border-color: transparent;\n",
              "      border-right-color: var(--fill-color);\n",
              "      border-top-color: var(--fill-color);\n",
              "    }\n",
              "    60% {\n",
              "      border-color: transparent;\n",
              "      border-right-color: var(--fill-color);\n",
              "    }\n",
              "    80% {\n",
              "      border-color: transparent;\n",
              "      border-right-color: var(--fill-color);\n",
              "      border-bottom-color: var(--fill-color);\n",
              "    }\n",
              "    90% {\n",
              "      border-color: transparent;\n",
              "      border-bottom-color: var(--fill-color);\n",
              "    }\n",
              "  }\n",
              "</style>\n",
              "\n",
              "  <script>\n",
              "    async function quickchart(key) {\n",
              "      const quickchartButtonEl =\n",
              "        document.querySelector('#' + key + ' button');\n",
              "      quickchartButtonEl.disabled = true;  // To prevent multiple clicks.\n",
              "      quickchartButtonEl.classList.add('colab-df-spinner');\n",
              "      try {\n",
              "        const charts = await google.colab.kernel.invokeFunction(\n",
              "            'suggestCharts', [key], {});\n",
              "      } catch (error) {\n",
              "        console.error('Error during call to suggestCharts:', error);\n",
              "      }\n",
              "      quickchartButtonEl.classList.remove('colab-df-spinner');\n",
              "      quickchartButtonEl.classList.add('colab-df-quickchart-complete');\n",
              "    }\n",
              "    (() => {\n",
              "      let quickchartButtonEl =\n",
              "        document.querySelector('#df-e8f8a46c-58bd-4b48-850e-efe2dcffa867 button');\n",
              "      quickchartButtonEl.style.display =\n",
              "        google.colab.kernel.accessAllowed ? 'block' : 'none';\n",
              "    })();\n",
              "  </script>\n",
              "</div>\n",
              "\n",
              "    </div>\n",
              "  </div>\n"
            ]
          },
          "metadata": {},
          "execution_count": 195
        }
      ]
    },
    {
      "cell_type": "markdown",
      "source": [
        "##Segundo Modelo: MLP\n",
        "\n",
        "Utilizamos un modelo de redes neuronales sin la informacion provista por las minutas\n",
        "\n",
        "Para MLP usar:\n",
        "\n",
        "\n",
        "**Para entrenar:** X_train_logistic, y_train\n",
        "\n",
        "**Para validación:** X_val_logistic, y_val\n",
        "\n",
        "**Para testear:** X_test_logistic, y_test1"
      ],
      "metadata": {
        "id": "9_1l_c7Lceml"
      }
    },
    {
      "cell_type": "code",
      "source": [
        "dense = tf.keras.Sequential([\n",
        "    tf.keras.layers.Dense(units=64, activation='relu'),\n",
        "    tf.keras.layers.Dense(units=64, activation='relu'),\n",
        "    tf.keras.layers.Dense(units=3, activation='softmax')\n",
        "])"
      ],
      "metadata": {
        "id": "ddlnQzFTcvui"
      },
      "execution_count": null,
      "outputs": []
    },
    {
      "cell_type": "code",
      "source": [
        "patience=20\n",
        "learning_rate=0.001\n",
        "MAX_EPOCHS = 500\n",
        "model=dense\n",
        "early_stopping = tf.keras.callbacks.EarlyStopping(monitor='accuracy',\n",
        "                                                    patience=patience,\n",
        "                                                      mode='min')\n",
        "\n",
        "optimizer = tf.keras.optimizers.Adam(learning_rate=learning_rate)\n",
        "\n",
        "model.compile(loss='categorical_crossentropy', optimizer=optimizer, metrics=['accuracy'])\n",
        "history = model.fit(X_train_logistic, y_train, epochs=MAX_EPOCHS, validation_data=(X_val_logistic,y_val),batch_size=30, callbacks=[early_stopping])"
      ],
      "metadata": {
        "id": "VmfaNswNcvrw",
        "colab": {
          "base_uri": "https://localhost:8080/"
        },
        "outputId": "a4154bc5-599e-4729-8a96-232bdadb8e83"
      },
      "execution_count": null,
      "outputs": [
        {
          "output_type": "stream",
          "name": "stdout",
          "text": [
            "Epoch 1/500\n",
            "14/14 [==============================] - 1s 18ms/step - loss: 1.1277 - accuracy: 0.3791 - val_loss: 1.0950 - val_accuracy: 0.5000\n",
            "Epoch 2/500\n",
            "14/14 [==============================] - 0s 5ms/step - loss: 1.0727 - accuracy: 0.5140 - val_loss: 1.1180 - val_accuracy: 0.0000e+00\n",
            "Epoch 3/500\n",
            "14/14 [==============================] - 0s 5ms/step - loss: 1.0581 - accuracy: 0.5267 - val_loss: 1.1045 - val_accuracy: 0.5000\n",
            "Epoch 4/500\n",
            "14/14 [==============================] - 0s 5ms/step - loss: 1.0370 - accuracy: 0.6438 - val_loss: 1.0913 - val_accuracy: 0.5000\n",
            "Epoch 5/500\n",
            "14/14 [==============================] - 0s 5ms/step - loss: 1.0245 - accuracy: 0.6972 - val_loss: 1.0632 - val_accuracy: 0.5000\n",
            "Epoch 6/500\n",
            "14/14 [==============================] - 0s 5ms/step - loss: 1.0130 - accuracy: 0.6336 - val_loss: 1.0481 - val_accuracy: 0.5000\n",
            "Epoch 7/500\n",
            "14/14 [==============================] - 0s 5ms/step - loss: 1.0018 - accuracy: 0.6590 - val_loss: 1.0707 - val_accuracy: 0.5000\n",
            "Epoch 8/500\n",
            "14/14 [==============================] - 0s 5ms/step - loss: 0.9802 - accuracy: 0.6438 - val_loss: 1.0058 - val_accuracy: 0.5000\n",
            "Epoch 9/500\n",
            "14/14 [==============================] - 0s 5ms/step - loss: 0.9693 - accuracy: 0.6692 - val_loss: 1.0316 - val_accuracy: 0.5000\n",
            "Epoch 10/500\n",
            "14/14 [==============================] - 0s 5ms/step - loss: 0.9521 - accuracy: 0.6158 - val_loss: 0.9664 - val_accuracy: 0.5000\n",
            "Epoch 11/500\n",
            "14/14 [==============================] - 0s 5ms/step - loss: 0.9403 - accuracy: 0.6438 - val_loss: 1.0026 - val_accuracy: 0.5000\n",
            "Epoch 12/500\n",
            "14/14 [==============================] - 0s 5ms/step - loss: 0.9225 - accuracy: 0.6463 - val_loss: 1.0160 - val_accuracy: 0.5000\n",
            "Epoch 13/500\n",
            "14/14 [==============================] - 0s 6ms/step - loss: 0.8879 - accuracy: 0.6997 - val_loss: 0.9480 - val_accuracy: 0.5000\n",
            "Epoch 14/500\n",
            "14/14 [==============================] - 0s 5ms/step - loss: 0.8727 - accuracy: 0.7150 - val_loss: 0.9562 - val_accuracy: 0.5000\n",
            "Epoch 15/500\n",
            "14/14 [==============================] - 0s 5ms/step - loss: 0.8566 - accuracy: 0.6743 - val_loss: 0.9553 - val_accuracy: 0.5000\n",
            "Epoch 16/500\n",
            "14/14 [==============================] - 0s 5ms/step - loss: 0.8513 - accuracy: 0.6667 - val_loss: 0.9717 - val_accuracy: 0.5000\n",
            "Epoch 17/500\n",
            "14/14 [==============================] - 0s 5ms/step - loss: 0.8584 - accuracy: 0.6310 - val_loss: 0.9002 - val_accuracy: 0.5000\n",
            "Epoch 18/500\n",
            "14/14 [==============================] - 0s 5ms/step - loss: 0.8388 - accuracy: 0.6387 - val_loss: 0.9152 - val_accuracy: 0.5000\n",
            "Epoch 19/500\n",
            "14/14 [==============================] - 0s 5ms/step - loss: 0.8256 - accuracy: 0.6641 - val_loss: 0.9478 - val_accuracy: 0.5000\n",
            "Epoch 20/500\n",
            "14/14 [==============================] - 0s 5ms/step - loss: 0.7844 - accuracy: 0.7074 - val_loss: 0.8752 - val_accuracy: 0.5000\n",
            "Epoch 21/500\n",
            "14/14 [==============================] - 0s 5ms/step - loss: 0.7729 - accuracy: 0.7226 - val_loss: 0.8972 - val_accuracy: 0.5000\n"
          ]
        }
      ]
    },
    {
      "cell_type": "code",
      "source": [
        "predicted_classes=model.predict(X_test_logistic)"
      ],
      "metadata": {
        "id": "wXICP-QHcvjh",
        "colab": {
          "base_uri": "https://localhost:8080/"
        },
        "outputId": "cab60c52-915f-4296-998a-eb5c1a280c63"
      },
      "execution_count": null,
      "outputs": [
        {
          "output_type": "stream",
          "name": "stdout",
          "text": [
            "2/2 [==============================] - 0s 4ms/step\n"
          ]
        }
      ]
    },
    {
      "cell_type": "code",
      "source": [
        "from sklearn.metrics import confusion_matrix\n",
        "import seaborn as sns\n",
        "import matplotlib.pyplot as plt\n",
        "\n",
        "# Make predictions\n",
        "predictions_1 = model.predict(X_test_logistic)\n",
        "predicted_classes = np.argmax(predictions_1, axis=1)\n",
        "predicted_classes\n",
        "#predict_proba=model.predict_proba(X_test_logistic)\n"
      ],
      "metadata": {
        "id": "oOk6Aospcvdx",
        "colab": {
          "base_uri": "https://localhost:8080/"
        },
        "outputId": "511cbd03-2f61-43fa-bee8-c81e34e3f10b"
      },
      "execution_count": null,
      "outputs": [
        {
          "output_type": "stream",
          "name": "stdout",
          "text": [
            "2/2 [==============================] - 0s 4ms/step\n"
          ]
        },
        {
          "output_type": "execute_result",
          "data": {
            "text/plain": [
              "array([1, 1, 1, 2, 1, 2, 1, 1, 1, 0, 0, 0, 0, 0, 0, 0, 0, 0, 0, 0, 0, 0,\n",
              "       0, 0, 0, 0, 1, 1, 1, 1, 1, 1, 1, 1, 1, 1, 1, 1, 1])"
            ]
          },
          "metadata": {},
          "execution_count": 199
        }
      ]
    },
    {
      "cell_type": "code",
      "source": [
        "predicted_classes_1=np.where(predicted_classes == 2, -1, np.where(predicted_classes ==1, 1, 0))"
      ],
      "metadata": {
        "id": "gp5hlJlucvWg"
      },
      "execution_count": null,
      "outputs": []
    },
    {
      "cell_type": "code",
      "source": [
        "confusion_matrix_graph(y_test1, predicted_classes_1)\n"
      ],
      "metadata": {
        "id": "F4tgV4S-oltW",
        "colab": {
          "base_uri": "https://localhost:8080/",
          "height": 564
        },
        "outputId": "f24071aa-ab44-4d27-9d2c-d7b380744541"
      },
      "execution_count": null,
      "outputs": [
        {
          "output_type": "display_data",
          "data": {
            "text/plain": [
              "<Figure size 800x600 with 1 Axes>"
            ],
            "image/png": "[encoded data removed]"
          },
          "metadata": {}
        }
      ]
    },
    {
      "cell_type": "code",
      "source": [
        "metricas(y_test1,predicted_classes,predictions_1)"
      ],
      "metadata": {
        "id": "JR7VX1BXP9tS",
        "colab": {
          "base_uri": "https://localhost:8080/",
          "height": 869
        },
        "outputId": "9b3a5c3c-171f-4518-df94-8babf669fbb2"
      },
      "execution_count": null,
      "outputs": [
        {
          "output_type": "stream",
          "name": "stderr",
          "text": [
            "/usr/local/lib/python3.10/dist-packages/sklearn/metrics/_classification.py:1344: UndefinedMetricWarning: Recall is ill-defined and being set to 0.0 in labels with no true samples. Use `zero_division` parameter to control this behavior.\n",
            "  _warn_prf(average, modifier, msg_start, len(result))\n",
            "/usr/local/lib/python3.10/dist-packages/sklearn/metrics/_classification.py:1344: UndefinedMetricWarning: Precision is ill-defined and being set to 0.0 in labels with no predicted samples. Use `zero_division` parameter to control this behavior.\n",
            "  _warn_prf(average, modifier, msg_start, len(result))\n",
            "WARNING:matplotlib.legend:No artists with labels found to put in legend.  Note that artists whose label start with an underscore are ignored when legend() is called with no argument.\n"
          ]
        },
        {
          "output_type": "display_data",
          "data": {
            "text/plain": [
              "<Figure size 700x700 with 1 Axes>"
            ],
            "image/png": "[encoded data removed]"
          },
          "metadata": {}
        },
        {
          "output_type": "execute_result",
          "data": {
            "text/plain": [
              "accuracy         0.615385\n",
              "f1               0.328088\n",
              "recall           0.360795\n",
              "precision        0.333088\n",
              "roc_auc_score    0.362689\n",
              "log_loss         1.813362\n",
              "dtype: float64"
            ]
          },
          "metadata": {},
          "execution_count": 202
        }
      ]
    },
    {
      "cell_type": "markdown",
      "source": [
        "##MLP con información adicional de las minutas\n",
        "\n",
        "Utilizamosla información de las minutas junto con un modelos de redes neuronales.\n",
        "\n",
        "**Para entrenar:** X_train, y_train\n",
        "\n",
        "**Para validación:** X_val, y_val\n",
        "\n",
        "**Para testear:** X_test, y_test1"
      ],
      "metadata": {
        "id": "CIg_etsAcmdd"
      }
    },
    {
      "cell_type": "code",
      "source": [
        "dense = tf.keras.Sequential([\n",
        "    tf.keras.layers.Dense(units=64, activation='relu'),\n",
        "    tf.keras.layers.Dense(units=64, activation='relu'),\n",
        "    tf.keras.layers.Dense(units=32, activation='relu'),\n",
        "    tf.keras.layers.Dense(units=3, activation='softmax')\n",
        "])\n"
      ],
      "metadata": {
        "id": "9S5HjjQ9G-tg"
      },
      "execution_count": null,
      "outputs": []
    },
    {
      "cell_type": "code",
      "source": [
        "### anlisis del error\n",
        "len(X_train_smote), len(X_val), len(y_train), len(y_val)"
      ],
      "metadata": {
        "id": "be-9J4XlM0kE",
        "colab": {
          "base_uri": "https://localhost:8080/"
        },
        "outputId": "fe948932-44c5-4deb-dc4d-023bf5feab24"
      },
      "execution_count": null,
      "outputs": [
        {
          "output_type": "execute_result",
          "data": {
            "text/plain": [
              "(393, 8, 393, 8)"
            ]
          },
          "metadata": {},
          "execution_count": 204
        }
      ]
    },
    {
      "cell_type": "code",
      "source": [
        "patience=20\n",
        "learning_rate=0.001\n",
        "MAX_EPOCHS = 500\n",
        "model=dense\n",
        "early_stopping = tf.keras.callbacks.EarlyStopping(monitor='accuracy',\n",
        "                                                    patience=patience,\n",
        "                                                      mode='min')\n",
        "\n",
        "optimizer = tf.keras.optimizers.Adam(learning_rate=learning_rate)\n",
        "\n",
        "model.compile(loss='categorical_crossentropy', optimizer=optimizer, metrics=['accuracy'])\n",
        "history = model.fit(X_train_smote, y_train, epochs=MAX_EPOCHS, validation_data=(X_val,y_val),batch_size=30, callbacks=[early_stopping])"
      ],
      "metadata": {
        "id": "i0VxEmSiHB2Z",
        "colab": {
          "base_uri": "https://localhost:8080/"
        },
        "outputId": "c3fe8db5-7444-4e4a-945d-b61b01144b17"
      },
      "execution_count": null,
      "outputs": [
        {
          "output_type": "stream",
          "name": "stdout",
          "text": [
            "Epoch 1/500\n",
            "14/14 [==============================] - 2s 19ms/step - loss: 1.0968 - accuracy: 0.3791 - val_loss: 1.1495 - val_accuracy: 0.5000\n",
            "Epoch 2/500\n",
            "14/14 [==============================] - 0s 5ms/step - loss: 1.0461 - accuracy: 0.5089 - val_loss: 1.0907 - val_accuracy: 0.5000\n",
            "Epoch 3/500\n",
            "14/14 [==============================] - 0s 5ms/step - loss: 0.9998 - accuracy: 0.6056 - val_loss: 1.0470 - val_accuracy: 0.3750\n",
            "Epoch 4/500\n",
            "14/14 [==============================] - 0s 5ms/step - loss: 0.9462 - accuracy: 0.6463 - val_loss: 1.0097 - val_accuracy: 0.5000\n",
            "Epoch 5/500\n",
            "14/14 [==============================] - 0s 5ms/step - loss: 0.8908 - accuracy: 0.6972 - val_loss: 1.0238 - val_accuracy: 0.5000\n",
            "Epoch 6/500\n",
            "14/14 [==============================] - 0s 7ms/step - loss: 0.8421 - accuracy: 0.7023 - val_loss: 0.9712 - val_accuracy: 0.5000\n",
            "Epoch 7/500\n",
            "14/14 [==============================] - 0s 5ms/step - loss: 0.8102 - accuracy: 0.7659 - val_loss: 0.9118 - val_accuracy: 0.5000\n",
            "Epoch 8/500\n",
            "14/14 [==============================] - 0s 5ms/step - loss: 0.7469 - accuracy: 0.7455 - val_loss: 0.9419 - val_accuracy: 0.5000\n",
            "Epoch 9/500\n",
            "14/14 [==============================] - 0s 6ms/step - loss: 0.6851 - accuracy: 0.7532 - val_loss: 0.8793 - val_accuracy: 0.5000\n",
            "Epoch 10/500\n",
            "14/14 [==============================] - 0s 6ms/step - loss: 0.6937 - accuracy: 0.7277 - val_loss: 0.9095 - val_accuracy: 0.5000\n",
            "Epoch 11/500\n",
            "14/14 [==============================] - 0s 7ms/step - loss: 0.6377 - accuracy: 0.7303 - val_loss: 0.8703 - val_accuracy: 0.5000\n",
            "Epoch 12/500\n",
            "14/14 [==============================] - 0s 5ms/step - loss: 0.5586 - accuracy: 0.7863 - val_loss: 0.8957 - val_accuracy: 0.5000\n",
            "Epoch 13/500\n",
            "14/14 [==============================] - 0s 5ms/step - loss: 0.5190 - accuracy: 0.8015 - val_loss: 0.9127 - val_accuracy: 0.5000\n",
            "Epoch 14/500\n",
            "14/14 [==============================] - 0s 5ms/step - loss: 0.4687 - accuracy: 0.8270 - val_loss: 0.9702 - val_accuracy: 0.5000\n",
            "Epoch 15/500\n",
            "14/14 [==============================] - 0s 6ms/step - loss: 0.4358 - accuracy: 0.8321 - val_loss: 0.9528 - val_accuracy: 0.5000\n",
            "Epoch 16/500\n",
            "14/14 [==============================] - 0s 5ms/step - loss: 0.4113 - accuracy: 0.8626 - val_loss: 1.0019 - val_accuracy: 0.5000\n",
            "Epoch 17/500\n",
            "14/14 [==============================] - 0s 5ms/step - loss: 0.3951 - accuracy: 0.8575 - val_loss: 0.9491 - val_accuracy: 0.5000\n",
            "Epoch 18/500\n",
            "14/14 [==============================] - 0s 5ms/step - loss: 0.3877 - accuracy: 0.8575 - val_loss: 1.0273 - val_accuracy: 0.5000\n",
            "Epoch 19/500\n",
            "14/14 [==============================] - 0s 6ms/step - loss: 0.3789 - accuracy: 0.8473 - val_loss: 1.1408 - val_accuracy: 0.5000\n",
            "Epoch 20/500\n",
            "14/14 [==============================] - 0s 5ms/step - loss: 0.3728 - accuracy: 0.8499 - val_loss: 1.1491 - val_accuracy: 0.5000\n",
            "Epoch 21/500\n",
            "14/14 [==============================] - 0s 7ms/step - loss: 0.3556 - accuracy: 0.8473 - val_loss: 1.1247 - val_accuracy: 0.5000\n"
          ]
        }
      ]
    },
    {
      "cell_type": "code",
      "source": [
        "from sklearn.metrics import confusion_matrix\n",
        "import seaborn as sns\n",
        "import matplotlib.pyplot as plt\n",
        "# Assuming 'model' is your trained logistic regression model\n",
        "# and 'X_test' and 'y_test' are your test set features and labels\n",
        "\n",
        "# Make predictions\n",
        "predictions_2 = model.predict(X_test)\n",
        "predicted_classes_2=np.where(predicted_classes == 2, -1, np.where(predicted_classes ==1, 1, 0))\n",
        "confusion_matrix_graph(y_test1, predicted_classes)\n",
        "\n"
      ],
      "metadata": {
        "id": "_eY1IBdLN7R2",
        "colab": {
          "base_uri": "https://localhost:8080/",
          "height": 581
        },
        "outputId": "ac5404ea-a12c-4723-b9ae-3c4015df5b6a"
      },
      "execution_count": null,
      "outputs": [
        {
          "output_type": "stream",
          "name": "stdout",
          "text": [
            "2/2 [==============================] - 0s 5ms/step\n"
          ]
        },
        {
          "output_type": "display_data",
          "data": {
            "text/plain": [
              "<Figure size 800x600 with 1 Axes>"
            ],
            "image/png": "[encoded data removed]"
          },
          "metadata": {}
        }
      ]
    },
    {
      "cell_type": "code",
      "source": [
        "metricas(y_test1,predicted_classes_2,predictions_2)\n"
      ],
      "metadata": {
        "id": "_BMroKc6VqNL",
        "colab": {
          "base_uri": "https://localhost:8080/",
          "height": 800
        },
        "outputId": "96d9d992-1b23-467d-baff-7dca086b30a8"
      },
      "execution_count": null,
      "outputs": [
        {
          "output_type": "stream",
          "name": "stderr",
          "text": [
            "WARNING:matplotlib.legend:No artists with labels found to put in legend.  Note that artists whose label start with an underscore are ignored when legend() is called with no argument.\n"
          ]
        },
        {
          "output_type": "display_data",
          "data": {
            "text/plain": [
              "<Figure size 700x700 with 1 Axes>"
            ],
            "image/png": "[encoded data removed]"
          },
          "metadata": {}
        },
        {
          "output_type": "execute_result",
          "data": {
            "text/plain": [
              "accuracy         0.666667\n",
              "f1               0.659673\n",
              "recall           0.647727\n",
              "precision        0.777451\n",
              "roc_auc_score    0.275410\n",
              "log_loss         3.635522\n",
              "dtype: float64"
            ]
          },
          "metadata": {},
          "execution_count": 207
        }
      ]
    },
    {
      "cell_type": "code",
      "source": [
        "metricas_comparacion(y_test1,predicted_classes_1,predictions_1,predicted_classes_2,predictions_2)"
      ],
      "metadata": {
        "colab": {
          "base_uri": "https://localhost:8080/",
          "height": 692
        },
        "id": "H_1AgmFIEfFD",
        "outputId": "e9a74eb1-9060-4f41-acd1-133904bcc7dd"
      },
      "execution_count": null,
      "outputs": [
        {
          "output_type": "display_data",
          "data": {
            "text/plain": [
              "<Figure size 640x480 with 1 Axes>"
            ],
            "image/png": "[encoded data removed]"
          },
          "metadata": {}
        },
        {
          "output_type": "execute_result",
          "data": {
            "text/plain": [
              "               modelos 1  Modelos 2\n",
              "accuracy        0.666667   0.666667\n",
              "f1              0.659673   0.659673\n",
              "recall          0.647727   0.647727\n",
              "precision       0.777451   0.777451\n",
              "roc_auc_score   0.362689   0.275410\n",
              "log_loss        1.813362   1.813362"
            ],
            "text/html": [
              "\n",
              "  <div id=\"df-c7281999-8508-4caa-829c-8e92ee94477e\" class=\"colab-df-container\">\n",
              "    <div>\n",
              "<style scoped>\n",
              "    .dataframe tbody tr th:only-of-type {\n",
              "        vertical-align: middle;\n",
              "    }\n",
              "\n",
              "    .dataframe tbody tr th {\n",
              "        vertical-align: top;\n",
              "    }\n",
              "\n",
              "    .dataframe thead th {\n",
              "        text-align: right;\n",
              "    }\n",
              "</style>\n",
              "<table border=\"1\" class=\"dataframe\">\n",
              "  <thead>\n",
              "    <tr style=\"text-align: right;\">\n",
              "      <th></th>\n",
              "      <th>modelos 1</th>\n",
              "      <th>Modelos 2</th>\n",
              "    </tr>\n",
              "  </thead>\n",
              "  <tbody>\n",
              "    <tr>\n",
              "      <th>accuracy</th>\n",
              "      <td>0.666667</td>\n",
              "      <td>0.666667</td>\n",
              "    </tr>\n",
              "    <tr>\n",
              "      <th>f1</th>\n",
              "      <td>0.659673</td>\n",
              "      <td>0.659673</td>\n",
              "    </tr>\n",
              "    <tr>\n",
              "      <th>recall</th>\n",
              "      <td>0.647727</td>\n",
              "      <td>0.647727</td>\n",
              "    </tr>\n",
              "    <tr>\n",
              "      <th>precision</th>\n",
              "      <td>0.777451</td>\n",
              "      <td>0.777451</td>\n",
              "    </tr>\n",
              "    <tr>\n",
              "      <th>roc_auc_score</th>\n",
              "      <td>0.362689</td>\n",
              "      <td>0.275410</td>\n",
              "    </tr>\n",
              "    <tr>\n",
              "      <th>log_loss</th>\n",
              "      <td>1.813362</td>\n",
              "      <td>1.813362</td>\n",
              "    </tr>\n",
              "  </tbody>\n",
              "</table>\n",
              "</div>\n",
              "    <div class=\"colab-df-buttons\">\n",
              "\n",
              "  <div class=\"colab-df-container\">\n",
              "    <button class=\"colab-df-convert\" onclick=\"convertToInteractive('df-c7281999-8508-4caa-829c-8e92ee94477e')\"\n",
              "            title=\"Convert this dataframe to an interactive table.\"\n",
              "            style=\"display:none;\">\n",
              "\n",
              "  <svg xmlns=\"http://www.w3.org/2000/svg\" height=\"24px\" viewBox=\"0 -960 960 960\">\n",
              "    <path d=\"M120-120v-720h720v720H120Zm60-500h600v-160H180v160Zm220 220h160v-160H400v160Zm0 220h160v-160H400v160ZM180-400h160v-160H180v160Zm440 0h160v-160H620v160ZM180-180h160v-160H180v160Zm440 0h160v-160H620v160Z\"/>\n",
              "  </svg>\n",
              "    </button>\n",
              "\n",
              "  <style>\n",
              "    .colab-df-container {\n",
              "      display:flex;\n",
              "      gap: 12px;\n",
              "    }\n",
              "\n",
              "    .colab-df-convert {\n",
              "      background-color: #E8F0FE;\n",
              "      border: none;\n",
              "      border-radius: 50%;\n",
              "      cursor: pointer;\n",
              "      display: none;\n",
              "      fill: #1967D2;\n",
              "      height: 32px;\n",
              "      padding: 0 0 0 0;\n",
              "      width: 32px;\n",
              "    }\n",
              "\n",
              "    .colab-df-convert:hover {\n",
              "      background-color: #E2EBFA;\n",
              "      box-shadow: 0px 1px 2px rgba(60, 64, 67, 0.3), 0px 1px 3px 1px rgba(60, 64, 67, 0.15);\n",
              "      fill: #174EA6;\n",
              "    }\n",
              "\n",
              "    .colab-df-buttons div {\n",
              "      margin-bottom: 4px;\n",
              "    }\n",
              "\n",
              "    [theme=dark] .colab-df-convert {\n",
              "      background-color: #3B4455;\n",
              "      fill: #D2E3FC;\n",
              "    }\n",
              "\n",
              "    [theme=dark] .colab-df-convert:hover {\n",
              "      background-color: #434B5C;\n",
              "      box-shadow: 0px 1px 3px 1px rgba(0, 0, 0, 0.15);\n",
              "      filter: drop-shadow(0px 1px 2px rgba(0, 0, 0, 0.3));\n",
              "      fill: #FFFFFF;\n",
              "    }\n",
              "  </style>\n",
              "\n",
              "    <script>\n",
              "      const buttonEl =\n",
              "        document.querySelector('#df-c7281999-8508-4caa-829c-8e92ee94477e button.colab-df-convert');\n",
              "      buttonEl.style.display =\n",
              "        google.colab.kernel.accessAllowed ? 'block' : 'none';\n",
              "\n",
              "      async function convertToInteractive(key) {\n",
              "        const element = document.querySelector('#df-c7281999-8508-4caa-829c-8e92ee94477e');\n",
              "        const dataTable =\n",
              "          await google.colab.kernel.invokeFunction('convertToInteractive',\n",
              "                                                    [key], {});\n",
              "        if (!dataTable) return;\n",
              "\n",
              "        const docLinkHtml = 'Like what you see? Visit the ' +\n",
              "          '<a target=\"_blank\" href=https://colab.research.google.com/notebooks/data_table.ipynb>data table notebook</a>'\n",
              "          + ' to learn more about interactive tables.';\n",
              "        element.innerHTML = '';\n",
              "        dataTable['output_type'] = 'display_data';\n",
              "        await google.colab.output.renderOutput(dataTable, element);\n",
              "        const docLink = document.createElement('div');\n",
              "        docLink.innerHTML = docLinkHtml;\n",
              "        element.appendChild(docLink);\n",
              "      }\n",
              "    </script>\n",
              "  </div>\n",
              "\n",
              "\n",
              "<div id=\"df-2fa9ccbb-a6df-404b-9132-7e95ce8da838\">\n",
              "  <button class=\"colab-df-quickchart\" onclick=\"quickchart('df-2fa9ccbb-a6df-404b-9132-7e95ce8da838')\"\n",
              "            title=\"Suggest charts\"\n",
              "            style=\"display:none;\">\n",
              "\n",
              "<svg xmlns=\"http://www.w3.org/2000/svg\" height=\"24px\"viewBox=\"0 0 24 24\"\n",
              "     width=\"24px\">\n",
              "    <g>\n",
              "        <path d=\"M19 3H5c-1.1 0-2 .9-2 2v14c0 1.1.9 2 2 2h14c1.1 0 2-.9 2-2V5c0-1.1-.9-2-2-2zM9 17H7v-7h2v7zm4 0h-2V7h2v10zm4 0h-2v-4h2v4z\"/>\n",
              "    </g>\n",
              "</svg>\n",
              "  </button>\n",
              "\n",
              "<style>\n",
              "  .colab-df-quickchart {\n",
              "      --bg-color: #E8F0FE;\n",
              "      --fill-color: #1967D2;\n",
              "      --hover-bg-color: #E2EBFA;\n",
              "      --hover-fill-color: #174EA6;\n",
              "      --disabled-fill-color: #AAA;\n",
              "      --disabled-bg-color: #DDD;\n",
              "  }\n",
              "\n",
              "  [theme=dark] .colab-df-quickchart {\n",
              "      --bg-color: #3B4455;\n",
              "      --fill-color: #D2E3FC;\n",
              "      --hover-bg-color: #434B5C;\n",
              "      --hover-fill-color: #FFFFFF;\n",
              "      --disabled-bg-color: #3B4455;\n",
              "      --disabled-fill-color: #666;\n",
              "  }\n",
              "\n",
              "  .colab-df-quickchart {\n",
              "    background-color: var(--bg-color);\n",
              "    border: none;\n",
              "    border-radius: 50%;\n",
              "    cursor: pointer;\n",
              "    display: none;\n",
              "    fill: var(--fill-color);\n",
              "    height: 32px;\n",
              "    padding: 0;\n",
              "    width: 32px;\n",
              "  }\n",
              "\n",
              "  .colab-df-quickchart:hover {\n",
              "    background-color: var(--hover-bg-color);\n",
              "    box-shadow: 0 1px 2px rgba(60, 64, 67, 0.3), 0 1px 3px 1px rgba(60, 64, 67, 0.15);\n",
              "    fill: var(--button-hover-fill-color);\n",
              "  }\n",
              "\n",
              "  .colab-df-quickchart-complete:disabled,\n",
              "  .colab-df-quickchart-complete:disabled:hover {\n",
              "    background-color: var(--disabled-bg-color);\n",
              "    fill: var(--disabled-fill-color);\n",
              "    box-shadow: none;\n",
              "  }\n",
              "\n",
              "  .colab-df-spinner {\n",
              "    border: 2px solid var(--fill-color);\n",
              "    border-color: transparent;\n",
              "    border-bottom-color: var(--fill-color);\n",
              "    animation:\n",
              "      spin 1s steps(1) infinite;\n",
              "  }\n",
              "\n",
              "  @keyframes spin {\n",
              "    0% {\n",
              "      border-color: transparent;\n",
              "      border-bottom-color: var(--fill-color);\n",
              "      border-left-color: var(--fill-color);\n",
              "    }\n",
              "    20% {\n",
              "      border-color: transparent;\n",
              "      border-left-color: var(--fill-color);\n",
              "      border-top-color: var(--fill-color);\n",
              "    }\n",
              "    30% {\n",
              "      border-color: transparent;\n",
              "      border-left-color: var(--fill-color);\n",
              "      border-top-color: var(--fill-color);\n",
              "      border-right-color: var(--fill-color);\n",
              "    }\n",
              "    40% {\n",
              "      border-color: transparent;\n",
              "      border-right-color: var(--fill-color);\n",
              "      border-top-color: var(--fill-color);\n",
              "    }\n",
              "    60% {\n",
              "      border-color: transparent;\n",
              "      border-right-color: var(--fill-color);\n",
              "    }\n",
              "    80% {\n",
              "      border-color: transparent;\n",
              "      border-right-color: var(--fill-color);\n",
              "      border-bottom-color: var(--fill-color);\n",
              "    }\n",
              "    90% {\n",
              "      border-color: transparent;\n",
              "      border-bottom-color: var(--fill-color);\n",
              "    }\n",
              "  }\n",
              "</style>\n",
              "\n",
              "  <script>\n",
              "    async function quickchart(key) {\n",
              "      const quickchartButtonEl =\n",
              "        document.querySelector('#' + key + ' button');\n",
              "      quickchartButtonEl.disabled = true;  // To prevent multiple clicks.\n",
              "      quickchartButtonEl.classList.add('colab-df-spinner');\n",
              "      try {\n",
              "        const charts = await google.colab.kernel.invokeFunction(\n",
              "            'suggestCharts', [key], {});\n",
              "      } catch (error) {\n",
              "        console.error('Error during call to suggestCharts:', error);\n",
              "      }\n",
              "      quickchartButtonEl.classList.remove('colab-df-spinner');\n",
              "      quickchartButtonEl.classList.add('colab-df-quickchart-complete');\n",
              "    }\n",
              "    (() => {\n",
              "      let quickchartButtonEl =\n",
              "        document.querySelector('#df-2fa9ccbb-a6df-404b-9132-7e95ce8da838 button');\n",
              "      quickchartButtonEl.style.display =\n",
              "        google.colab.kernel.accessAllowed ? 'block' : 'none';\n",
              "    })();\n",
              "  </script>\n",
              "</div>\n",
              "\n",
              "    </div>\n",
              "  </div>\n"
            ]
          },
          "metadata": {},
          "execution_count": 209
        }
      ]
    },
    {
      "cell_type": "code",
      "source": [],
      "metadata": {
        "id": "q9jECedxE0Bm"
      },
      "execution_count": null,
      "outputs": []
    }
  ]
}