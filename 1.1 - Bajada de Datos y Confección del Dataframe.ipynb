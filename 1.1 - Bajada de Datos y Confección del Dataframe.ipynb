{
 "cells": [
  {
   "cell_type": "markdown",
   "metadata": {},
   "source": [
    "<a target=\"_blank\" href=\"https://colab.research.google.com/github/PabloOrazi/fed-sentiment-analysis/blob/main/1.1%20-%20Bajada%20de%20Datos%20y%20Confecci%C3%B3n%20del%20Dataframe.ipynb\">\n",
    "  <img src=\"https://colab.research.google.com/assets/colab-badge.svg\" alt=\"Open In Colab\"/>\n",
    "</a>"
   ]
  },
  {
   "cell_type": "markdown",
   "metadata": {},
   "source": [
    "## Instalación de paquetes necesarios\n",
    "\n",
    "Primero instalamos el paquete FedTools para descargar las minutas de la FED. Si está ejecutando este archivo desde su computadora en vez de Google Colab, instale el resto de los requerimientos a través del comando ```pip install -r requirements.txt```."
   ]
  },
  {
   "cell_type": "code",
   "execution_count": 3,
   "metadata": {},
   "outputs": [
    {
     "name": "stdout",
     "output_type": "stream",
     "text": [
      "Requirement already satisfied: FedTools in c:\\users\\pablo\\anaconda3\\lib\\site-packages (0.0.7)\n",
      "Collecting pandas-datareader\n",
      "  Downloading pandas_datareader-0.10.0-py3-none-any.whl (109 kB)\n",
      "     -------------------------------------- 109.5/109.5 kB 3.2 MB/s eta 0:00:00\n",
      "Requirement already satisfied: fake-useragent in c:\\users\\pablo\\anaconda3\\lib\\site-packages (from FedTools) (1.4.0)\n",
      "Requirement already satisfied: pandas in c:\\users\\pablo\\anaconda3\\lib\\site-packages (from FedTools) (1.5.3)\n",
      "Requirement already satisfied: requests in c:\\users\\pablo\\anaconda3\\lib\\site-packages (from FedTools) (2.28.1)\n",
      "Requirement already satisfied: pytz in c:\\users\\pablo\\anaconda3\\lib\\site-packages (from FedTools) (2022.7)\n",
      "Requirement already satisfied: numpy in c:\\users\\pablo\\anaconda3\\lib\\site-packages (from FedTools) (1.23.5)\n",
      "Requirement already satisfied: six in c:\\users\\pablo\\anaconda3\\lib\\site-packages (from FedTools) (1.16.0)\n",
      "Requirement already satisfied: beautifulsoup4 in c:\\users\\pablo\\anaconda3\\lib\\site-packages (from FedTools) (4.11.1)\n",
      "Requirement already satisfied: soupsieve in c:\\users\\pablo\\anaconda3\\lib\\site-packages (from FedTools) (2.3.2.post1)\n",
      "Requirement already satisfied: python-dateutil in c:\\users\\pablo\\anaconda3\\lib\\site-packages (from FedTools) (2.8.2)\n",
      "Requirement already satisfied: lxml in c:\\users\\pablo\\anaconda3\\lib\\site-packages (from pandas-datareader) (4.9.1)\n",
      "Requirement already satisfied: urllib3<1.27,>=1.21.1 in c:\\users\\pablo\\anaconda3\\lib\\site-packages (from requests->FedTools) (1.26.14)\n",
      "Requirement already satisfied: certifi>=2017.4.17 in c:\\users\\pablo\\anaconda3\\lib\\site-packages (from requests->FedTools) (2023.5.7)\n",
      "Requirement already satisfied: idna<4,>=2.5 in c:\\users\\pablo\\anaconda3\\lib\\site-packages (from requests->FedTools) (3.4)\n",
      "Requirement already satisfied: charset-normalizer<3,>=2 in c:\\users\\pablo\\anaconda3\\lib\\site-packages (from requests->FedTools) (2.0.4)\n",
      "Installing collected packages: pandas-datareader\n",
      "Successfully installed pandas-datareader-0.10.0\n"
     ]
    }
   ],
   "source": [
    "!pip install FedTools"
   ]
  },
  {
   "cell_type": "markdown",
   "metadata": {
    "id": "CcrCvLbSzt5o"
   },
   "source": [
    "## Descarga de información para el modelo  \n",
    "\n",
    "El propósito del modelo será pronosticar el siguiente movimiento de tasa de la FED. Para ello, deberemos descargar y construir un conjunto de Features. Nuestro interés será ver si una vez que disponemos de la minuta de la última reunión podemos mejorar con el uso de un modelo de análisis de lenguaje la predicción que descuentan los mercados. \n",
    "\n",
    "La predicción que hacen los mercados es observable a través del diferencial entre las tasas de interés respecto a la tasa de referencia. Si la tasa de referencia es 4.50%, pero la tasa a un plazo de 3 meses es 4.75%, el mercado descuenta que habrá una suba, ya que invertir a 3 meses rinde significativamente más que la tasa actual.\n",
    "\n",
    "\n",
    "### Descarga de tasas de interés  \n",
    "\n",
    "En primer lugar, obtendremos del sitio FRED (Federal Reserve Economic Data) datos sobre las tasas de interés de referencia y la tasa de 3 meses. Para la tasa de referencia, se usará por un lado la tasa efectiva que se opera (que se la promedia para 5 días para evitar señales falsas por factores de iliquidez transitorios), y por otro la tasa objetivo. Y para la tasa objetivo, se combinarán los datos históricos, cuando se usaba una tasa de referencia, empalmándolos con los datos a partir del momento en que se empezó a trabajar con piso y techo para la tasa de referencia."
   ]
  },
  {
   "cell_type": "code",
   "execution_count": 4,
   "metadata": {
    "colab": {
     "base_uri": "https://localhost:8080/"
    },
    "id": "eWAIJki4hDgd",
    "outputId": "aa2aeff3-bc6b-4717-ecd5-5af80f603efa"
   },
   "outputs": [],
   "source": [
    "import pandas_datareader.data as web\n",
    "import datetime\n",
    "import pandas as pd\n",
    "from FedTools import MonetaryPolicyCommittee\n",
    "from FedTools import FederalReserveMins"
   ]
  },
  {
   "cell_type": "code",
   "execution_count": 26,
   "metadata": {
    "id": "mdprbx9asRKz"
   },
   "outputs": [],
   "source": []
  },
  {
   "cell_type": "code",
   "execution_count": 11,
   "metadata": {
    "id": "mdprbx9asRKz"
   },
   "outputs": [],
   "source": [
    "start_date = datetime.datetime(1950, 1, 1)\n",
    "ff_rate = web.DataReader([\n",
    "                \"DFF\",\n",
    "                'DFEDTAR',\n",
    "                \"DFEDTARL\",\n",
    "                \"DFEDTARU\"], 'fred', start_date)\n",
    "ff_rate_mid = ff_rate[['DFEDTAR',\n",
    "                \"DFEDTARL\",\n",
    "                \"DFEDTARU\"]].mean(axis=1).ffill()\n",
    "effective_ff_rate = ff_rate[\"DFF\"].ffill().rolling(5).mean().dropna()\n",
    "effective_ff_rate = ff_rate[\"DFF\"].ffill()\n",
    "\n",
    "other_short_rates = web.DataReader(['DTB3',], 'fred', start_date).ffill()"
   ]
  },
  {
   "cell_type": "code",
   "execution_count": null,
   "metadata": {},
   "outputs": [],
   "source": []
  },
  {
   "cell_type": "markdown",
   "metadata": {
    "id": "qSMxOPAlLWfx"
   },
   "source": [
    "### Descarga de minutas de las reuniones de la Reserva Federal\n",
    "Luego usamos el paquete```FedTools``` para descargar las minutas y comunicados de las reuniones de la Fed. Aplicaremos un modelo de análisis de sentimiento (Hawkish, Neutral, Dovish) a estas minutas en el siguiente notebook."
   ]
  },
  {
   "cell_type": "code",
   "execution_count": 18,
   "metadata": {
    "colab": {
     "base_uri": "https://localhost:8080/"
    },
    "id": "aKG3tTVRzyXw",
    "outputId": "11f463a4-a144-4f76-f07d-eb5d758fd76c"
   },
   "outputs": [
    {
     "name": "stdout",
     "output_type": "stream",
     "text": [
      "Constructing links between 1970 and 2024\n",
      "Extracting the past 227 FOMC Statements.\n",
      "Retrieving articles.\n",
      "...................................................................................................................................................................................................................................Constructing links between 1995 and 2024\n",
      "Extracting Federal Reserve Minutes.\n",
      "Retrieving articles.\n",
      ".............................................................................................................................................................................................................................................."
     ]
    }
   ],
   "source": [
    "start_year = 1970\n",
    "historical_split = 2018\n",
    "dataset_statements = MonetaryPolicyCommittee(start_year=start_year, historical_split=historical_split).find_statements()\n",
    "dataset_minutes = FederalReserveMins(historical_split=historical_split).find_minutes()"
   ]
  },
  {
   "cell_type": "markdown",
   "metadata": {},
   "source": [
    "### Construcción de un dataframe donde se consolide información de fechas relevantes\n",
    "\n",
    "Incluimos en el repositorio un archivo llamado *date_minutes.pkl* en el cual incluimos las fechas de las reuniones y las fechas de la publicación de las minutas respectivas, para saber la fecha en que se dispone de esta información. \n",
    "\n",
    "Utilizaremos un ajuste de un día hacia delante, para representar un momento en que la información de la minuta habría sido absorbida por los mercados. \n",
    "\n",
    "Con la información del análisis de sentimiento de la minuta intentamos ver si obtenemos una información adicional o más objetiva en comparación con el sentimiento de mercado. "
   ]
  },
  {
   "cell_type": "code",
   "execution_count": 45,
   "metadata": {},
   "outputs": [
    {
     "data": {
      "text/html": [
       "<div>\n",
       "<style scoped>\n",
       "    .dataframe tbody tr th:only-of-type {\n",
       "        vertical-align: middle;\n",
       "    }\n",
       "\n",
       "    .dataframe tbody tr th {\n",
       "        vertical-align: top;\n",
       "    }\n",
       "\n",
       "    .dataframe thead th {\n",
       "        text-align: right;\n",
       "    }\n",
       "</style>\n",
       "<table border=\"1\" class=\"dataframe\">\n",
       "  <thead>\n",
       "    <tr style=\"text-align: right;\">\n",
       "      <th></th>\n",
       "      <th>Fecha Minuta</th>\n",
       "    </tr>\n",
       "    <tr>\n",
       "      <th>Meeting</th>\n",
       "      <th></th>\n",
       "    </tr>\n",
       "  </thead>\n",
       "  <tbody>\n",
       "    <tr>\n",
       "      <th>1995-02-01</th>\n",
       "      <td>1995-03-31</td>\n",
       "    </tr>\n",
       "    <tr>\n",
       "      <th>1995-03-28</th>\n",
       "      <td>1995-05-26</td>\n",
       "    </tr>\n",
       "    <tr>\n",
       "      <th>1995-05-23</th>\n",
       "      <td>1995-07-07</td>\n",
       "    </tr>\n",
       "    <tr>\n",
       "      <th>1995-07-06</th>\n",
       "      <td>1995-08-25</td>\n",
       "    </tr>\n",
       "    <tr>\n",
       "      <th>1995-08-22</th>\n",
       "      <td>1995-09-29</td>\n",
       "    </tr>\n",
       "    <tr>\n",
       "      <th>...</th>\n",
       "      <td>...</td>\n",
       "    </tr>\n",
       "    <tr>\n",
       "      <th>2023-06-14</th>\n",
       "      <td>2023-07-05</td>\n",
       "    </tr>\n",
       "    <tr>\n",
       "      <th>2023-07-26</th>\n",
       "      <td>2023-08-16</td>\n",
       "    </tr>\n",
       "    <tr>\n",
       "      <th>2023-09-20</th>\n",
       "      <td>2023-10-11</td>\n",
       "    </tr>\n",
       "    <tr>\n",
       "      <th>2023-11-01</th>\n",
       "      <td>2023-11-21</td>\n",
       "    </tr>\n",
       "    <tr>\n",
       "      <th>2023-12-13</th>\n",
       "      <td>2024-01-03</td>\n",
       "    </tr>\n",
       "  </tbody>\n",
       "</table>\n",
       "<p>231 rows × 1 columns</p>\n",
       "</div>"
      ],
      "text/plain": [
       "           Fecha Minuta\n",
       "Meeting                \n",
       "1995-02-01   1995-03-31\n",
       "1995-03-28   1995-05-26\n",
       "1995-05-23   1995-07-07\n",
       "1995-07-06   1995-08-25\n",
       "1995-08-22   1995-09-29\n",
       "...                 ...\n",
       "2023-06-14   2023-07-05\n",
       "2023-07-26   2023-08-16\n",
       "2023-09-20   2023-10-11\n",
       "2023-11-01   2023-11-21\n",
       "2023-12-13   2024-01-03\n",
       "\n",
       "[231 rows x 1 columns]"
      ]
     },
     "execution_count": 45,
     "metadata": {},
     "output_type": "execute_result"
    }
   ],
   "source": [
    "try:\n",
    "    path_minutes_published='Datos/date_minutes.pkl'\n",
    "    df_fechas_pub_min=pd.read_pickle(path_minutes_published)\n",
    "except FileNotFoundError:\n",
    "    print(\"Descargando de GitHub\")\n",
    "    path_minutes_published='https://github.com/PabloOrazi/fed-sentiment-analysis/raw/main/Datos/date_minutes.pkl'\n",
    "    df_fechas_pub_min=pd.read_pickle(path_minutes_published)    \n",
    "    \n",
    "df_fechas_pub_min.columns=['Meeting', 'Fecha Minuta']\n",
    "df_fechas_pub_min['Meeting'] = pd.to_datetime(df_fechas_pub_min['Meeting'], format='%d/%m/%Y').dt.strftime('%Y-%m-%d')\n",
    "df_fechas_pub_min['Fecha Minuta'] = pd.to_datetime(df_fechas_pub_min['Fecha Minuta'], format='%d/%m/%Y').dt.strftime('%Y-%m-%d')\n",
    "df_fechas_pub_min.set_index('Meeting', inplace=True)\n",
    "df_fechas_pub_min.index = pd.to_datetime(df_fechas_pub_min.index)\n",
    "df_fechas_pub_min"
   ]
  },
  {
   "cell_type": "markdown",
   "metadata": {},
   "source": [
    "### Consolidación de la información de fechas\n",
    "\n",
    "Creamos un dataframe donde tenemos la fecha de la reunión, la publicación de la minuta, la fecha de la siguiente reunión, y fechas defasadas para representar un momento en que ya los mercados hubiesen recibido y procesado la minuta y las decisiones de política monetaria hubiesen sido tomadas."
   ]
  },
  {
   "cell_type": "code",
   "execution_count": 38,
   "metadata": {
    "colab": {
     "base_uri": "https://localhost:8080/"
    },
    "id": "OfpSJ5Ej0x1p",
    "outputId": "ecfff29f-8481-449f-9740-b93137f9fee4"
   },
   "outputs": [
    {
     "data": {
      "text/html": [
       "<div>\n",
       "<style scoped>\n",
       "    .dataframe tbody tr th:only-of-type {\n",
       "        vertical-align: middle;\n",
       "    }\n",
       "\n",
       "    .dataframe tbody tr th {\n",
       "        vertical-align: top;\n",
       "    }\n",
       "\n",
       "    .dataframe thead th {\n",
       "        text-align: right;\n",
       "    }\n",
       "</style>\n",
       "<table border=\"1\" class=\"dataframe\">\n",
       "  <thead>\n",
       "    <tr style=\"text-align: right;\">\n",
       "      <th></th>\n",
       "      <th>Fecha Reunión</th>\n",
       "      <th>Publicacion Minuta</th>\n",
       "      <th>Fecha Reunión + 1 BD</th>\n",
       "      <th>Publicacion Minuta + 1 BD</th>\n",
       "      <th>Fecha Siguiente Reunión</th>\n",
       "      <th>Fecha Siguiente Reunión + 1 BD</th>\n",
       "    </tr>\n",
       "  </thead>\n",
       "  <tbody>\n",
       "    <tr>\n",
       "      <th>1995-02-01</th>\n",
       "      <td>1995-02-01</td>\n",
       "      <td>1995-03-31</td>\n",
       "      <td>1995-02-02</td>\n",
       "      <td>1995-04-03</td>\n",
       "      <td>1995-03-28</td>\n",
       "      <td>1995-03-29</td>\n",
       "    </tr>\n",
       "    <tr>\n",
       "      <th>1995-03-28</th>\n",
       "      <td>1995-03-28</td>\n",
       "      <td>1995-05-26</td>\n",
       "      <td>1995-03-29</td>\n",
       "      <td>1995-05-29</td>\n",
       "      <td>1995-05-23</td>\n",
       "      <td>1995-05-24</td>\n",
       "    </tr>\n",
       "    <tr>\n",
       "      <th>1995-05-23</th>\n",
       "      <td>1995-05-23</td>\n",
       "      <td>1995-07-07</td>\n",
       "      <td>1995-05-24</td>\n",
       "      <td>1995-07-10</td>\n",
       "      <td>1995-07-06</td>\n",
       "      <td>1995-07-07</td>\n",
       "    </tr>\n",
       "    <tr>\n",
       "      <th>1995-07-06</th>\n",
       "      <td>1995-07-06</td>\n",
       "      <td>1995-08-25</td>\n",
       "      <td>1995-07-07</td>\n",
       "      <td>1995-08-28</td>\n",
       "      <td>1995-08-22</td>\n",
       "      <td>1995-08-23</td>\n",
       "    </tr>\n",
       "    <tr>\n",
       "      <th>1995-08-22</th>\n",
       "      <td>1995-08-22</td>\n",
       "      <td>1995-09-29</td>\n",
       "      <td>1995-08-23</td>\n",
       "      <td>1995-10-02</td>\n",
       "      <td>1995-09-26</td>\n",
       "      <td>1995-09-27</td>\n",
       "    </tr>\n",
       "    <tr>\n",
       "      <th>...</th>\n",
       "      <td>...</td>\n",
       "      <td>...</td>\n",
       "      <td>...</td>\n",
       "      <td>...</td>\n",
       "      <td>...</td>\n",
       "      <td>...</td>\n",
       "    </tr>\n",
       "    <tr>\n",
       "      <th>2023-06-14</th>\n",
       "      <td>2023-06-14</td>\n",
       "      <td>2023-07-05</td>\n",
       "      <td>2023-06-15</td>\n",
       "      <td>2023-07-06</td>\n",
       "      <td>2023-07-26</td>\n",
       "      <td>2023-07-27</td>\n",
       "    </tr>\n",
       "    <tr>\n",
       "      <th>2023-07-26</th>\n",
       "      <td>2023-07-26</td>\n",
       "      <td>2023-08-16</td>\n",
       "      <td>2023-07-27</td>\n",
       "      <td>2023-08-17</td>\n",
       "      <td>2023-09-20</td>\n",
       "      <td>2023-09-21</td>\n",
       "    </tr>\n",
       "    <tr>\n",
       "      <th>2023-09-20</th>\n",
       "      <td>2023-09-20</td>\n",
       "      <td>2023-10-11</td>\n",
       "      <td>2023-09-21</td>\n",
       "      <td>2023-10-12</td>\n",
       "      <td>2023-11-01</td>\n",
       "      <td>2023-11-02</td>\n",
       "    </tr>\n",
       "    <tr>\n",
       "      <th>2023-11-01</th>\n",
       "      <td>2023-11-01</td>\n",
       "      <td>2023-11-21</td>\n",
       "      <td>2023-11-02</td>\n",
       "      <td>2023-11-22</td>\n",
       "      <td>2023-12-13</td>\n",
       "      <td>2023-12-14</td>\n",
       "    </tr>\n",
       "    <tr>\n",
       "      <th>2023-12-13</th>\n",
       "      <td>2023-12-13</td>\n",
       "      <td>2024-01-03</td>\n",
       "      <td>2023-12-14</td>\n",
       "      <td>2024-01-04</td>\n",
       "      <td>NaT</td>\n",
       "      <td>NaT</td>\n",
       "    </tr>\n",
       "  </tbody>\n",
       "</table>\n",
       "<p>231 rows × 6 columns</p>\n",
       "</div>"
      ],
      "text/plain": [
       "           Fecha Reunión Publicacion Minuta Fecha Reunión + 1 BD  \\\n",
       "1995-02-01    1995-02-01         1995-03-31           1995-02-02   \n",
       "1995-03-28    1995-03-28         1995-05-26           1995-03-29   \n",
       "1995-05-23    1995-05-23         1995-07-07           1995-05-24   \n",
       "1995-07-06    1995-07-06         1995-08-25           1995-07-07   \n",
       "1995-08-22    1995-08-22         1995-09-29           1995-08-23   \n",
       "...                  ...                ...                  ...   \n",
       "2023-06-14    2023-06-14         2023-07-05           2023-06-15   \n",
       "2023-07-26    2023-07-26         2023-08-16           2023-07-27   \n",
       "2023-09-20    2023-09-20         2023-10-11           2023-09-21   \n",
       "2023-11-01    2023-11-01         2023-11-21           2023-11-02   \n",
       "2023-12-13    2023-12-13         2024-01-03           2023-12-14   \n",
       "\n",
       "           Publicacion Minuta + 1 BD Fecha Siguiente Reunión  \\\n",
       "1995-02-01                1995-04-03              1995-03-28   \n",
       "1995-03-28                1995-05-29              1995-05-23   \n",
       "1995-05-23                1995-07-10              1995-07-06   \n",
       "1995-07-06                1995-08-28              1995-08-22   \n",
       "1995-08-22                1995-10-02              1995-09-26   \n",
       "...                              ...                     ...   \n",
       "2023-06-14                2023-07-06              2023-07-26   \n",
       "2023-07-26                2023-08-17              2023-09-20   \n",
       "2023-09-20                2023-10-12              2023-11-01   \n",
       "2023-11-01                2023-11-22              2023-12-13   \n",
       "2023-12-13                2024-01-04                     NaT   \n",
       "\n",
       "           Fecha Siguiente Reunión + 1 BD  \n",
       "1995-02-01                     1995-03-29  \n",
       "1995-03-28                     1995-05-24  \n",
       "1995-05-23                     1995-07-07  \n",
       "1995-07-06                     1995-08-23  \n",
       "1995-08-22                     1995-09-27  \n",
       "...                                   ...  \n",
       "2023-06-14                     2023-07-27  \n",
       "2023-07-26                     2023-09-21  \n",
       "2023-09-20                     2023-11-02  \n",
       "2023-11-01                     2023-12-14  \n",
       "2023-12-13                            NaT  \n",
       "\n",
       "[231 rows x 6 columns]"
      ]
     },
     "execution_count": 38,
     "metadata": {},
     "output_type": "execute_result"
    }
   ],
   "source": [
    "fechas_pub_minutas = pd.merge(dataset_minutes, df_fechas_pub_min, left_index=True, right_index=True)\n",
    "\n",
    "fechas = pd.DataFrame({\n",
    "    \"Fecha Reunión\" : dataset_minutes.index[:],\n",
    "    \"Publicacion Minuta\" : fechas_pub_minutas['Fecha Minuta'],})\n",
    "\n",
    "fechas[\"Publicacion Minuta\"] = pd.to_datetime(fechas[\"Publicacion Minuta\"])\n",
    "fechas[\"Fecha Reunión + 1 BD\"] = fechas[\"Fecha Reunión\"] + pd.offsets.BDay()\n",
    "fechas[\"Publicacion Minuta + 1 BD\"] = fechas[\"Publicacion Minuta\"]+ pd.offsets.BDay()\n",
    "fechas[\"Fecha Siguiente Reunión\"] = list(dataset_minutes.index[1:])+[None]\n",
    "fechas[\"Fecha Siguiente Reunión + 1 BD\"] = fechas[\"Fecha Siguiente Reunión\"]+ pd.offsets.BDay()\n",
    "fechas"
   ]
  },
  {
   "cell_type": "code",
   "execution_count": null,
   "metadata": {},
   "outputs": [],
   "source": []
  },
  {
   "cell_type": "code",
   "execution_count": null,
   "metadata": {
    "id": "izHQfPsM3U0C"
   },
   "outputs": [],
   "source": []
  },
  {
   "cell_type": "markdown",
   "metadata": {},
   "source": [
    "### Creación del Dataframe de Fechas y Tasas\n",
    "Incorporamos al dataframe anterior datos de tasas, incluyendo la tasa de referencia objetivo, la tasa promedio observada los últimos 5 días, la tasa de 3 meses y la decisión de política monetaria, que se expresa en cuál es la diferencia entre la tasa en la siguiente reunión respecto a la tasa luego de esta reunión."
   ]
  },
  {
   "cell_type": "code",
   "execution_count": 42,
   "metadata": {
    "colab": {
     "base_uri": "https://localhost:8080/"
    },
    "id": "1MvIkpDt1Ipa",
    "outputId": "29c17e9f-35ad-4d74-bebb-006f3f40475b"
   },
   "outputs": [
    {
     "name": "stderr",
     "output_type": "stream",
     "text": [
      "C:\\Users\\pablo\\AppData\\Local\\Temp\\ipykernel_14764\\2977799455.py:12: SettingWithCopyWarning: \n",
      "A value is trying to be set on a copy of a slice from a DataFrame.\n",
      "Try using .loc[row_indexer,col_indexer] = value instead\n",
      "\n",
      "See the caveats in the documentation: https://pandas.pydata.org/pandas-docs/stable/user_guide/indexing.html#returning-a-view-versus-a-copy\n",
      "  df_fechas[\"Decisión Política Monetaria\"] = variacion_tasas\n"
     ]
    },
    {
     "data": {
      "text/html": [
       "<div>\n",
       "<style scoped>\n",
       "    .dataframe tbody tr th:only-of-type {\n",
       "        vertical-align: middle;\n",
       "    }\n",
       "\n",
       "    .dataframe tbody tr th {\n",
       "        vertical-align: top;\n",
       "    }\n",
       "\n",
       "    .dataframe thead th {\n",
       "        text-align: right;\n",
       "    }\n",
       "</style>\n",
       "<table border=\"1\" class=\"dataframe\">\n",
       "  <thead>\n",
       "    <tr style=\"text-align: right;\">\n",
       "      <th></th>\n",
       "      <th>Fecha Reunión + 1 BD</th>\n",
       "      <th>Publicacion Minuta + 1 BD</th>\n",
       "      <th>Fecha Siguiente Reunión + 1 BD</th>\n",
       "      <th>Decisión Política Monetaria</th>\n",
       "      <th>Fed Target Rate</th>\n",
       "      <th>Effective Fed Funds Rate</th>\n",
       "      <th>Tasa 3 Meses</th>\n",
       "    </tr>\n",
       "  </thead>\n",
       "  <tbody>\n",
       "    <tr>\n",
       "      <th>1995-02-01</th>\n",
       "      <td>1995-02-02</td>\n",
       "      <td>1995-04-03</td>\n",
       "      <td>1995-03-29</td>\n",
       "      <td>0.00</td>\n",
       "      <td>6.000</td>\n",
       "      <td>6.28</td>\n",
       "      <td>5.70</td>\n",
       "    </tr>\n",
       "    <tr>\n",
       "      <th>1995-03-28</th>\n",
       "      <td>1995-03-29</td>\n",
       "      <td>1995-05-29</td>\n",
       "      <td>1995-05-24</td>\n",
       "      <td>0.00</td>\n",
       "      <td>6.000</td>\n",
       "      <td>5.97</td>\n",
       "      <td>5.66</td>\n",
       "    </tr>\n",
       "    <tr>\n",
       "      <th>1995-05-23</th>\n",
       "      <td>1995-05-24</td>\n",
       "      <td>1995-07-10</td>\n",
       "      <td>1995-07-07</td>\n",
       "      <td>-0.25</td>\n",
       "      <td>5.750</td>\n",
       "      <td>5.78</td>\n",
       "      <td>5.36</td>\n",
       "    </tr>\n",
       "    <tr>\n",
       "      <th>1995-07-06</th>\n",
       "      <td>1995-07-07</td>\n",
       "      <td>1995-08-28</td>\n",
       "      <td>1995-08-23</td>\n",
       "      <td>0.00</td>\n",
       "      <td>5.750</td>\n",
       "      <td>5.72</td>\n",
       "      <td>5.31</td>\n",
       "    </tr>\n",
       "    <tr>\n",
       "      <th>1995-08-22</th>\n",
       "      <td>1995-08-23</td>\n",
       "      <td>1995-10-02</td>\n",
       "      <td>1995-09-27</td>\n",
       "      <td>0.00</td>\n",
       "      <td>5.750</td>\n",
       "      <td>5.93</td>\n",
       "      <td>5.26</td>\n",
       "    </tr>\n",
       "    <tr>\n",
       "      <th>...</th>\n",
       "      <td>...</td>\n",
       "      <td>...</td>\n",
       "      <td>...</td>\n",
       "      <td>...</td>\n",
       "      <td>...</td>\n",
       "      <td>...</td>\n",
       "      <td>...</td>\n",
       "    </tr>\n",
       "    <tr>\n",
       "      <th>2023-06-14</th>\n",
       "      <td>2023-06-15</td>\n",
       "      <td>2023-07-06</td>\n",
       "      <td>2023-07-27</td>\n",
       "      <td>0.25</td>\n",
       "      <td>5.125</td>\n",
       "      <td>5.08</td>\n",
       "      <td>5.23</td>\n",
       "    </tr>\n",
       "    <tr>\n",
       "      <th>2023-07-26</th>\n",
       "      <td>2023-07-27</td>\n",
       "      <td>2023-08-17</td>\n",
       "      <td>2023-09-21</td>\n",
       "      <td>0.00</td>\n",
       "      <td>5.375</td>\n",
       "      <td>5.33</td>\n",
       "      <td>5.29</td>\n",
       "    </tr>\n",
       "    <tr>\n",
       "      <th>2023-09-20</th>\n",
       "      <td>2023-09-21</td>\n",
       "      <td>2023-10-12</td>\n",
       "      <td>2023-11-02</td>\n",
       "      <td>0.00</td>\n",
       "      <td>5.375</td>\n",
       "      <td>5.33</td>\n",
       "      <td>5.35</td>\n",
       "    </tr>\n",
       "    <tr>\n",
       "      <th>2023-11-01</th>\n",
       "      <td>2023-11-02</td>\n",
       "      <td>2023-11-22</td>\n",
       "      <td>2023-12-14</td>\n",
       "      <td>0.00</td>\n",
       "      <td>5.375</td>\n",
       "      <td>5.33</td>\n",
       "      <td>5.27</td>\n",
       "    </tr>\n",
       "    <tr>\n",
       "      <th>2023-12-13</th>\n",
       "      <td>2023-12-14</td>\n",
       "      <td>2024-01-04</td>\n",
       "      <td>NaT</td>\n",
       "      <td>NaN</td>\n",
       "      <td>5.375</td>\n",
       "      <td>5.33</td>\n",
       "      <td>5.24</td>\n",
       "    </tr>\n",
       "  </tbody>\n",
       "</table>\n",
       "<p>231 rows × 7 columns</p>\n",
       "</div>"
      ],
      "text/plain": [
       "           Fecha Reunión + 1 BD Publicacion Minuta + 1 BD  \\\n",
       "1995-02-01           1995-02-02                1995-04-03   \n",
       "1995-03-28           1995-03-29                1995-05-29   \n",
       "1995-05-23           1995-05-24                1995-07-10   \n",
       "1995-07-06           1995-07-07                1995-08-28   \n",
       "1995-08-22           1995-08-23                1995-10-02   \n",
       "...                         ...                       ...   \n",
       "2023-06-14           2023-06-15                2023-07-06   \n",
       "2023-07-26           2023-07-27                2023-08-17   \n",
       "2023-09-20           2023-09-21                2023-10-12   \n",
       "2023-11-01           2023-11-02                2023-11-22   \n",
       "2023-12-13           2023-12-14                2024-01-04   \n",
       "\n",
       "           Fecha Siguiente Reunión + 1 BD  Decisión Política Monetaria  \\\n",
       "1995-02-01                     1995-03-29                         0.00   \n",
       "1995-03-28                     1995-05-24                         0.00   \n",
       "1995-05-23                     1995-07-07                        -0.25   \n",
       "1995-07-06                     1995-08-23                         0.00   \n",
       "1995-08-22                     1995-09-27                         0.00   \n",
       "...                                   ...                          ...   \n",
       "2023-06-14                     2023-07-27                         0.25   \n",
       "2023-07-26                     2023-09-21                         0.00   \n",
       "2023-09-20                     2023-11-02                         0.00   \n",
       "2023-11-01                     2023-12-14                         0.00   \n",
       "2023-12-13                            NaT                          NaN   \n",
       "\n",
       "            Fed Target Rate  Effective Fed Funds Rate  Tasa 3 Meses  \n",
       "1995-02-01            6.000                      6.28          5.70  \n",
       "1995-03-28            6.000                      5.97          5.66  \n",
       "1995-05-23            5.750                      5.78          5.36  \n",
       "1995-07-06            5.750                      5.72          5.31  \n",
       "1995-08-22            5.750                      5.93          5.26  \n",
       "...                     ...                       ...           ...  \n",
       "2023-06-14            5.125                      5.08          5.23  \n",
       "2023-07-26            5.375                      5.33          5.29  \n",
       "2023-09-20            5.375                      5.33          5.35  \n",
       "2023-11-01            5.375                      5.33          5.27  \n",
       "2023-12-13            5.375                      5.33          5.24  \n",
       "\n",
       "[231 rows x 7 columns]"
      ]
     },
     "execution_count": 42,
     "metadata": {},
     "output_type": "execute_result"
    }
   ],
   "source": [
    "tasas = pd.concat(\n",
    "    (ff_rate_mid,\n",
    "     effective_ff_rate,\n",
    "    other_short_rates), axis=1\n",
    ")\n",
    "tasas.columns =[\"Fed Target Rate\", \"Effective Fed Funds Rate\", \"Tasa 3 Meses\"]\n",
    "\n",
    "df_fechas = fechas[['Fecha Reunión + 1 BD',\n",
    " 'Publicacion Minuta + 1 BD',\n",
    " 'Fecha Siguiente Reunión + 1 BD']]\n",
    "variacion_tasas = df_fechas.merge(tasas, left_on='Fecha Siguiente Reunión + 1 BD', right_index=True, how=\"left\")[\"Fed Target Rate\"]-df_fechas.merge(tasas, left_on='Fecha Reunión + 1 BD', right_index=True, how=\"left\")[\"Fed Target Rate\"]\n",
    "df_fechas[\"Decisión Política Monetaria\"] = variacion_tasas\n",
    "df_fechas = df_fechas.merge(tasas, left_on='Publicacion Minuta + 1 BD', right_index=True, how='left')\n",
    "\n",
    "df_fechas"
   ]
  },
  {
   "cell_type": "code",
   "execution_count": null,
   "metadata": {
    "id": "57dr_Hk3Js5U"
   },
   "outputs": [],
   "source": []
  },
  {
   "cell_type": "markdown",
   "metadata": {
    "id": "strQVseRLAgu"
   },
   "source": [
    "### Exportación de datos para utilizar en siguientes fases del proceso"
   ]
  },
  {
   "cell_type": "code",
   "execution_count": 43,
   "metadata": {
    "id": "45sEfWl8DXCP"
   },
   "outputs": [],
   "source": [
    "import os\n",
    "\n",
    "outdir = './Datos'\n",
    "if not os.path.exists(outdir):\n",
    "    os.mkdir(outdir)\n",
    "\n",
    "df_fechas.to_pickle(\"Datos/df_fechas.pkl\")\n",
    "tasas.to_pickle(\"Datos/tasas.pkl\")\n",
    "dataset_minutes.to_pickle(\"Datos/dataset_minutes.pkl\")\n",
    "dataset_statements.to_pickle(\"Datos/dataset_statements.pkl\")"
   ]
  },
  {
   "cell_type": "markdown",
   "metadata": {},
   "source": [
    "### Descarga de datos de Google Colab\n",
    "\n",
    "Si se ejecutan los datos en Google Colab, habrá que descargar la información para usar en los pasos subsiguientes, en los cuales habrá que subir los datos al Google Colab."
   ]
  },
  {
   "cell_type": "code",
   "execution_count": 44,
   "metadata": {
    "colab": {
     "base_uri": "https://localhost:8080/",
     "height": 34
    },
    "id": "UTgOvawl-8j4",
    "outputId": "67dcd6c8-4b16-42ba-9303-11635aa821c4"
   },
   "outputs": [],
   "source": [
    "try:\n",
    "    import google.colab\n",
    "    IN_COLAB = True\n",
    "except ImportError:\n",
    "    IN_COLAB = False\n",
    "\n",
    "if IN_COLAB:\n",
    "    from google.colab import drive, files\n",
    "    files.download(r'df_fechas.pkl')\n",
    "    files.download(r'tasas.pkl')\n",
    "    files.download(r'dataset_minutes.pkl')\n",
    "    files.download(r'dataset_statements.pkl')"
   ]
  },
  {
   "cell_type": "code",
   "execution_count": null,
   "metadata": {
    "id": "C4qa3NG_BP7u"
   },
   "outputs": [],
   "source": []
  }
 ],
 "metadata": {
  "colab": {
   "provenance": []
  },
  "kernelspec": {
   "display_name": "Python 3 (ipykernel)",
   "language": "python",
   "name": "python3"
  },
  "language_info": {
   "codemirror_mode": {
    "name": "ipython",
    "version": 3
   },
   "file_extension": ".py",
   "mimetype": "text/x-python",
   "name": "python",
   "nbconvert_exporter": "python",
   "pygments_lexer": "ipython3",
   "version": "3.10.9"
  }
 },
 "nbformat": 4,
 "nbformat_minor": 1
}
