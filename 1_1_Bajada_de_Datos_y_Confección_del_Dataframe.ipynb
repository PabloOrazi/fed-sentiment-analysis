{
  "nbformat": 4,
  "nbformat_minor": 0,
  "metadata": {
    "colab": {
      "provenance": []
    },
    "kernelspec": {
      "name": "python3",
      "display_name": "Python 3"
    },
    "language_info": {
      "name": "python"
    }
  },
  "cells": [
    {
      "cell_type": "markdown",
      "source": [
        "##Primer Dataframe: Tasas  \n",
        "\n",
        "Pegar en la carpeta date_minutes.pkl y 1M Rate.csv"
      ],
      "metadata": {
        "id": "CcrCvLbSzt5o"
      }
    },
    {
      "cell_type": "code",
      "execution_count": null,
      "metadata": {
        "id": "eWAIJki4hDgd",
        "colab": {
          "base_uri": "https://localhost:8080/"
        },
        "outputId": "aa2aeff3-bc6b-4717-ecd5-5af80f603efa"
      },
      "outputs": [
        {
          "output_type": "stream",
          "name": "stdout",
          "text": [
            "Collecting FedTools\n",
            "  Downloading Fedtools-0.0.7-py3-none-any.whl (13 kB)\n",
            "Requirement already satisfied: numpy in /usr/local/lib/python3.10/dist-packages (from FedTools) (1.23.5)\n",
            "Requirement already satisfied: pandas in /usr/local/lib/python3.10/dist-packages (from FedTools) (1.5.3)\n",
            "Requirement already satisfied: requests in /usr/local/lib/python3.10/dist-packages (from FedTools) (2.31.0)\n",
            "Requirement already satisfied: beautifulsoup4 in /usr/local/lib/python3.10/dist-packages (from FedTools) (4.11.2)\n",
            "Collecting fake-useragent (from FedTools)\n",
            "  Downloading fake_useragent-1.4.0-py3-none-any.whl (15 kB)\n",
            "Requirement already satisfied: python-dateutil in /usr/local/lib/python3.10/dist-packages (from FedTools) (2.8.2)\n",
            "Requirement already satisfied: pytz in /usr/local/lib/python3.10/dist-packages (from FedTools) (2023.3.post1)\n",
            "Requirement already satisfied: six in /usr/local/lib/python3.10/dist-packages (from FedTools) (1.16.0)\n",
            "Requirement already satisfied: soupsieve in /usr/local/lib/python3.10/dist-packages (from FedTools) (2.5)\n",
            "Requirement already satisfied: charset-normalizer<4,>=2 in /usr/local/lib/python3.10/dist-packages (from requests->FedTools) (3.3.2)\n",
            "Requirement already satisfied: idna<4,>=2.5 in /usr/local/lib/python3.10/dist-packages (from requests->FedTools) (3.6)\n",
            "Requirement already satisfied: urllib3<3,>=1.21.1 in /usr/local/lib/python3.10/dist-packages (from requests->FedTools) (2.0.7)\n",
            "Requirement already satisfied: certifi>=2017.4.17 in /usr/local/lib/python3.10/dist-packages (from requests->FedTools) (2023.11.17)\n",
            "Installing collected packages: fake-useragent, FedTools\n",
            "Successfully installed FedTools-0.0.7 fake-useragent-1.4.0\n"
          ]
        }
      ],
      "source": [
        "!pip install FedTools\n",
        "import pandas_datareader.data as web\n",
        "import datetime\n",
        "import pandas as pd\n",
        "from FedTools import MonetaryPolicyCommittee\n",
        "from FedTools import FederalReserveMins\n",
        "from google.colab import drive, files\n"
      ]
    },
    {
      "cell_type": "code",
      "source": [
        "path_minutes_published='/content/date_minutes.pkl'\n",
        "df_fechas_pub_min=pd.read_pickle(path_minutes_published)\n",
        "\n",
        "\n",
        "df_fechas_pub_min.columns=['Meeting', 'Fecha Minuta']\n",
        "df_fechas_pub_min['Meeting'] = pd.to_datetime(df_fechas_pub_min['Meeting'], format='%d/%m/%Y').dt.strftime('%Y-%m-%d')\n",
        "df_fechas_pub_min['Fecha Minuta'] = pd.to_datetime(df_fechas_pub_min['Fecha Minuta'], format='%d/%m/%Y').dt.strftime('%Y-%m-%d')\n",
        "df_fechas_pub_min.set_index('Meeting', inplace=True)\n",
        "df_fechas_pub_min.index = pd.to_datetime(df_fechas_pub_min.index)\n",
        "\n",
        "# Define the start and end dates for the data\n",
        "start_date = datetime.datetime(1950, 1, 1)\n",
        "\n",
        "# Fetch Federal Funds Rate data from FRED\n",
        "ff_rate = web.DataReader([\n",
        "                \"DFF\",\n",
        "                'DFEDTAR',\n",
        "                \"DFEDTARL\",\n",
        "                \"DFEDTARU\"], 'fred', start_date)\n",
        "ff_rate_mid = ff_rate[['DFEDTAR',\n",
        "                \"DFEDTARL\",\n",
        "                \"DFEDTARU\"]].mean(axis=1).ffill()\n",
        "effective_ff_rate = ff_rate[\"DFF\"].ffill().rolling(5).mean().dropna()\n",
        "effective_ff_rate = ff_rate[\"DFF\"].ffill()\n",
        "\n",
        "other_short_rates1 = web.DataReader([\"DTB4WK\", 'DTB3',], 'fred', start_date).ffill()\n",
        "\n",
        "path_1M_Rate='/content/1M Rate.csv'\n",
        "un_mes_rate=pd.read_csv(path_1M_Rate)\n",
        "un_mes_rate.set_index('Date', inplace=True)\n",
        "un_mes_rate.index = pd.to_datetime(un_mes_rate.index)\n",
        "\n",
        "# path_effective_yield_rate= '/content/drive/MyDrive/effective funds rate.csv'\n",
        "# effective_ff_rate_history=pd.read_csv(path_effective_yield_rate)\n",
        "# effective_ff_rate_history.set_index('Date', inplace=True)\n"
      ],
      "metadata": {
        "id": "mdprbx9asRKz"
      },
      "execution_count": null,
      "outputs": []
    },
    {
      "cell_type": "code",
      "source": [
        "other_short_rates=pd.merge(other_short_rates1,un_mes_rate, right_index=True, left_index=True, how='left' )"
      ],
      "metadata": {
        "id": "snUV87w8I915"
      },
      "execution_count": null,
      "outputs": []
    },
    {
      "cell_type": "code",
      "source": [
        "other_short_rates['Tasa 1 Mes_x'] = other_short_rates['DTB4WK'].combine_first(other_short_rates['Effective Yield'])\n"
      ],
      "metadata": {
        "id": "qSMxOPAlLWfx"
      },
      "execution_count": null,
      "outputs": []
    },
    {
      "cell_type": "code",
      "source": [
        "other_short_rates['Tasa 1 Mes_x'].dropna()"
      ],
      "metadata": {
        "id": "NEEeNYOT9bY7",
        "colab": {
          "base_uri": "https://localhost:8080/"
        },
        "outputId": "23e7cce8-d90e-4fce-9eb9-a987caf18c47"
      },
      "execution_count": null,
      "outputs": [
        {
          "output_type": "execute_result",
          "data": {
            "text/plain": [
              "DATE\n",
              "1996-12-31    5.048\n",
              "1997-01-02    5.026\n",
              "1997-01-03    4.984\n",
              "1997-01-06    4.982\n",
              "1997-01-07    5.064\n",
              "              ...  \n",
              "2024-01-24    5.270\n",
              "2024-01-25    5.280\n",
              "2024-01-26    5.270\n",
              "2024-01-29    5.270\n",
              "2024-01-30    5.270\n",
              "Name: Tasa 1 Mes_x, Length: 7051, dtype: float64"
            ]
          },
          "metadata": {},
          "execution_count": 41
        }
      ]
    },
    {
      "cell_type": "code",
      "source": [
        "other_short_rates.drop(columns=['DTB4WK', 'Effective Yield', ' ',], inplace=True)"
      ],
      "metadata": {
        "id": "Gk9sHvS3MjRP"
      },
      "execution_count": null,
      "outputs": []
    },
    {
      "cell_type": "code",
      "source": [
        "other_short_rates.columns=['DTB3', 'DTB4WK']\n",
        "other_short_rates"
      ],
      "metadata": {
        "id": "lMMeTPNlNuHq",
        "colab": {
          "base_uri": "https://localhost:8080/",
          "height": 455
        },
        "outputId": "5c654486-094e-47ba-d655-7b3e7b226a71"
      },
      "execution_count": null,
      "outputs": [
        {
          "output_type": "execute_result",
          "data": {
            "text/plain": [
              "            DTB3  DTB4WK\n",
              "DATE                    \n",
              "1954-01-04  1.33     NaN\n",
              "1954-01-05  1.28     NaN\n",
              "1954-01-06  1.28     NaN\n",
              "1954-01-07  1.31     NaN\n",
              "1954-01-08  1.31     NaN\n",
              "...          ...     ...\n",
              "2024-01-24  5.21    5.27\n",
              "2024-01-25  5.21    5.28\n",
              "2024-01-26  5.21    5.27\n",
              "2024-01-29  5.22    5.27\n",
              "2024-01-30  5.21    5.27\n",
              "\n",
              "[18282 rows x 2 columns]"
            ],
            "text/html": [
              "\n",
              "  <div id=\"df-bf5d3912-1f73-466f-857f-5e1926f197ab\" class=\"colab-df-container\">\n",
              "    <div>\n",
              "<style scoped>\n",
              "    .dataframe tbody tr th:only-of-type {\n",
              "        vertical-align: middle;\n",
              "    }\n",
              "\n",
              "    .dataframe tbody tr th {\n",
              "        vertical-align: top;\n",
              "    }\n",
              "\n",
              "    .dataframe thead th {\n",
              "        text-align: right;\n",
              "    }\n",
              "</style>\n",
              "<table border=\"1\" class=\"dataframe\">\n",
              "  <thead>\n",
              "    <tr style=\"text-align: right;\">\n",
              "      <th></th>\n",
              "      <th>DTB3</th>\n",
              "      <th>DTB4WK</th>\n",
              "    </tr>\n",
              "    <tr>\n",
              "      <th>DATE</th>\n",
              "      <th></th>\n",
              "      <th></th>\n",
              "    </tr>\n",
              "  </thead>\n",
              "  <tbody>\n",
              "    <tr>\n",
              "      <th>1954-01-04</th>\n",
              "      <td>1.33</td>\n",
              "      <td>NaN</td>\n",
              "    </tr>\n",
              "    <tr>\n",
              "      <th>1954-01-05</th>\n",
              "      <td>1.28</td>\n",
              "      <td>NaN</td>\n",
              "    </tr>\n",
              "    <tr>\n",
              "      <th>1954-01-06</th>\n",
              "      <td>1.28</td>\n",
              "      <td>NaN</td>\n",
              "    </tr>\n",
              "    <tr>\n",
              "      <th>1954-01-07</th>\n",
              "      <td>1.31</td>\n",
              "      <td>NaN</td>\n",
              "    </tr>\n",
              "    <tr>\n",
              "      <th>1954-01-08</th>\n",
              "      <td>1.31</td>\n",
              "      <td>NaN</td>\n",
              "    </tr>\n",
              "    <tr>\n",
              "      <th>...</th>\n",
              "      <td>...</td>\n",
              "      <td>...</td>\n",
              "    </tr>\n",
              "    <tr>\n",
              "      <th>2024-01-24</th>\n",
              "      <td>5.21</td>\n",
              "      <td>5.27</td>\n",
              "    </tr>\n",
              "    <tr>\n",
              "      <th>2024-01-25</th>\n",
              "      <td>5.21</td>\n",
              "      <td>5.28</td>\n",
              "    </tr>\n",
              "    <tr>\n",
              "      <th>2024-01-26</th>\n",
              "      <td>5.21</td>\n",
              "      <td>5.27</td>\n",
              "    </tr>\n",
              "    <tr>\n",
              "      <th>2024-01-29</th>\n",
              "      <td>5.22</td>\n",
              "      <td>5.27</td>\n",
              "    </tr>\n",
              "    <tr>\n",
              "      <th>2024-01-30</th>\n",
              "      <td>5.21</td>\n",
              "      <td>5.27</td>\n",
              "    </tr>\n",
              "  </tbody>\n",
              "</table>\n",
              "<p>18282 rows × 2 columns</p>\n",
              "</div>\n",
              "    <div class=\"colab-df-buttons\">\n",
              "\n",
              "  <div class=\"colab-df-container\">\n",
              "    <button class=\"colab-df-convert\" onclick=\"convertToInteractive('df-bf5d3912-1f73-466f-857f-5e1926f197ab')\"\n",
              "            title=\"Convert this dataframe to an interactive table.\"\n",
              "            style=\"display:none;\">\n",
              "\n",
              "  <svg xmlns=\"http://www.w3.org/2000/svg\" height=\"24px\" viewBox=\"0 -960 960 960\">\n",
              "    <path d=\"M120-120v-720h720v720H120Zm60-500h600v-160H180v160Zm220 220h160v-160H400v160Zm0 220h160v-160H400v160ZM180-400h160v-160H180v160Zm440 0h160v-160H620v160ZM180-180h160v-160H180v160Zm440 0h160v-160H620v160Z\"/>\n",
              "  </svg>\n",
              "    </button>\n",
              "\n",
              "  <style>\n",
              "    .colab-df-container {\n",
              "      display:flex;\n",
              "      gap: 12px;\n",
              "    }\n",
              "\n",
              "    .colab-df-convert {\n",
              "      background-color: #E8F0FE;\n",
              "      border: none;\n",
              "      border-radius: 50%;\n",
              "      cursor: pointer;\n",
              "      display: none;\n",
              "      fill: #1967D2;\n",
              "      height: 32px;\n",
              "      padding: 0 0 0 0;\n",
              "      width: 32px;\n",
              "    }\n",
              "\n",
              "    .colab-df-convert:hover {\n",
              "      background-color: #E2EBFA;\n",
              "      box-shadow: 0px 1px 2px rgba(60, 64, 67, 0.3), 0px 1px 3px 1px rgba(60, 64, 67, 0.15);\n",
              "      fill: #174EA6;\n",
              "    }\n",
              "\n",
              "    .colab-df-buttons div {\n",
              "      margin-bottom: 4px;\n",
              "    }\n",
              "\n",
              "    [theme=dark] .colab-df-convert {\n",
              "      background-color: #3B4455;\n",
              "      fill: #D2E3FC;\n",
              "    }\n",
              "\n",
              "    [theme=dark] .colab-df-convert:hover {\n",
              "      background-color: #434B5C;\n",
              "      box-shadow: 0px 1px 3px 1px rgba(0, 0, 0, 0.15);\n",
              "      filter: drop-shadow(0px 1px 2px rgba(0, 0, 0, 0.3));\n",
              "      fill: #FFFFFF;\n",
              "    }\n",
              "  </style>\n",
              "\n",
              "    <script>\n",
              "      const buttonEl =\n",
              "        document.querySelector('#df-bf5d3912-1f73-466f-857f-5e1926f197ab button.colab-df-convert');\n",
              "      buttonEl.style.display =\n",
              "        google.colab.kernel.accessAllowed ? 'block' : 'none';\n",
              "\n",
              "      async function convertToInteractive(key) {\n",
              "        const element = document.querySelector('#df-bf5d3912-1f73-466f-857f-5e1926f197ab');\n",
              "        const dataTable =\n",
              "          await google.colab.kernel.invokeFunction('convertToInteractive',\n",
              "                                                    [key], {});\n",
              "        if (!dataTable) return;\n",
              "\n",
              "        const docLinkHtml = 'Like what you see? Visit the ' +\n",
              "          '<a target=\"_blank\" href=https://colab.research.google.com/notebooks/data_table.ipynb>data table notebook</a>'\n",
              "          + ' to learn more about interactive tables.';\n",
              "        element.innerHTML = '';\n",
              "        dataTable['output_type'] = 'display_data';\n",
              "        await google.colab.output.renderOutput(dataTable, element);\n",
              "        const docLink = document.createElement('div');\n",
              "        docLink.innerHTML = docLinkHtml;\n",
              "        element.appendChild(docLink);\n",
              "      }\n",
              "    </script>\n",
              "  </div>\n",
              "\n",
              "\n",
              "<div id=\"df-ae90dcd3-ea5e-42bc-ac96-b0a9a4455fa9\">\n",
              "  <button class=\"colab-df-quickchart\" onclick=\"quickchart('df-ae90dcd3-ea5e-42bc-ac96-b0a9a4455fa9')\"\n",
              "            title=\"Suggest charts\"\n",
              "            style=\"display:none;\">\n",
              "\n",
              "<svg xmlns=\"http://www.w3.org/2000/svg\" height=\"24px\"viewBox=\"0 0 24 24\"\n",
              "     width=\"24px\">\n",
              "    <g>\n",
              "        <path d=\"M19 3H5c-1.1 0-2 .9-2 2v14c0 1.1.9 2 2 2h14c1.1 0 2-.9 2-2V5c0-1.1-.9-2-2-2zM9 17H7v-7h2v7zm4 0h-2V7h2v10zm4 0h-2v-4h2v4z\"/>\n",
              "    </g>\n",
              "</svg>\n",
              "  </button>\n",
              "\n",
              "<style>\n",
              "  .colab-df-quickchart {\n",
              "      --bg-color: #E8F0FE;\n",
              "      --fill-color: #1967D2;\n",
              "      --hover-bg-color: #E2EBFA;\n",
              "      --hover-fill-color: #174EA6;\n",
              "      --disabled-fill-color: #AAA;\n",
              "      --disabled-bg-color: #DDD;\n",
              "  }\n",
              "\n",
              "  [theme=dark] .colab-df-quickchart {\n",
              "      --bg-color: #3B4455;\n",
              "      --fill-color: #D2E3FC;\n",
              "      --hover-bg-color: #434B5C;\n",
              "      --hover-fill-color: #FFFFFF;\n",
              "      --disabled-bg-color: #3B4455;\n",
              "      --disabled-fill-color: #666;\n",
              "  }\n",
              "\n",
              "  .colab-df-quickchart {\n",
              "    background-color: var(--bg-color);\n",
              "    border: none;\n",
              "    border-radius: 50%;\n",
              "    cursor: pointer;\n",
              "    display: none;\n",
              "    fill: var(--fill-color);\n",
              "    height: 32px;\n",
              "    padding: 0;\n",
              "    width: 32px;\n",
              "  }\n",
              "\n",
              "  .colab-df-quickchart:hover {\n",
              "    background-color: var(--hover-bg-color);\n",
              "    box-shadow: 0 1px 2px rgba(60, 64, 67, 0.3), 0 1px 3px 1px rgba(60, 64, 67, 0.15);\n",
              "    fill: var(--button-hover-fill-color);\n",
              "  }\n",
              "\n",
              "  .colab-df-quickchart-complete:disabled,\n",
              "  .colab-df-quickchart-complete:disabled:hover {\n",
              "    background-color: var(--disabled-bg-color);\n",
              "    fill: var(--disabled-fill-color);\n",
              "    box-shadow: none;\n",
              "  }\n",
              "\n",
              "  .colab-df-spinner {\n",
              "    border: 2px solid var(--fill-color);\n",
              "    border-color: transparent;\n",
              "    border-bottom-color: var(--fill-color);\n",
              "    animation:\n",
              "      spin 1s steps(1) infinite;\n",
              "  }\n",
              "\n",
              "  @keyframes spin {\n",
              "    0% {\n",
              "      border-color: transparent;\n",
              "      border-bottom-color: var(--fill-color);\n",
              "      border-left-color: var(--fill-color);\n",
              "    }\n",
              "    20% {\n",
              "      border-color: transparent;\n",
              "      border-left-color: var(--fill-color);\n",
              "      border-top-color: var(--fill-color);\n",
              "    }\n",
              "    30% {\n",
              "      border-color: transparent;\n",
              "      border-left-color: var(--fill-color);\n",
              "      border-top-color: var(--fill-color);\n",
              "      border-right-color: var(--fill-color);\n",
              "    }\n",
              "    40% {\n",
              "      border-color: transparent;\n",
              "      border-right-color: var(--fill-color);\n",
              "      border-top-color: var(--fill-color);\n",
              "    }\n",
              "    60% {\n",
              "      border-color: transparent;\n",
              "      border-right-color: var(--fill-color);\n",
              "    }\n",
              "    80% {\n",
              "      border-color: transparent;\n",
              "      border-right-color: var(--fill-color);\n",
              "      border-bottom-color: var(--fill-color);\n",
              "    }\n",
              "    90% {\n",
              "      border-color: transparent;\n",
              "      border-bottom-color: var(--fill-color);\n",
              "    }\n",
              "  }\n",
              "</style>\n",
              "\n",
              "  <script>\n",
              "    async function quickchart(key) {\n",
              "      const quickchartButtonEl =\n",
              "        document.querySelector('#' + key + ' button');\n",
              "      quickchartButtonEl.disabled = true;  // To prevent multiple clicks.\n",
              "      quickchartButtonEl.classList.add('colab-df-spinner');\n",
              "      try {\n",
              "        const charts = await google.colab.kernel.invokeFunction(\n",
              "            'suggestCharts', [key], {});\n",
              "      } catch (error) {\n",
              "        console.error('Error during call to suggestCharts:', error);\n",
              "      }\n",
              "      quickchartButtonEl.classList.remove('colab-df-spinner');\n",
              "      quickchartButtonEl.classList.add('colab-df-quickchart-complete');\n",
              "    }\n",
              "    (() => {\n",
              "      let quickchartButtonEl =\n",
              "        document.querySelector('#df-ae90dcd3-ea5e-42bc-ac96-b0a9a4455fa9 button');\n",
              "      quickchartButtonEl.style.display =\n",
              "        google.colab.kernel.accessAllowed ? 'block' : 'none';\n",
              "    })();\n",
              "  </script>\n",
              "</div>\n",
              "\n",
              "  <div id=\"id_796cf2e6-6d4c-443b-a4fb-0a0265f20c35\">\n",
              "    <style>\n",
              "      .colab-df-generate {\n",
              "        background-color: #E8F0FE;\n",
              "        border: none;\n",
              "        border-radius: 50%;\n",
              "        cursor: pointer;\n",
              "        display: none;\n",
              "        fill: #1967D2;\n",
              "        height: 32px;\n",
              "        padding: 0 0 0 0;\n",
              "        width: 32px;\n",
              "      }\n",
              "\n",
              "      .colab-df-generate:hover {\n",
              "        background-color: #E2EBFA;\n",
              "        box-shadow: 0px 1px 2px rgba(60, 64, 67, 0.3), 0px 1px 3px 1px rgba(60, 64, 67, 0.15);\n",
              "        fill: #174EA6;\n",
              "      }\n",
              "\n",
              "      [theme=dark] .colab-df-generate {\n",
              "        background-color: #3B4455;\n",
              "        fill: #D2E3FC;\n",
              "      }\n",
              "\n",
              "      [theme=dark] .colab-df-generate:hover {\n",
              "        background-color: #434B5C;\n",
              "        box-shadow: 0px 1px 3px 1px rgba(0, 0, 0, 0.15);\n",
              "        filter: drop-shadow(0px 1px 2px rgba(0, 0, 0, 0.3));\n",
              "        fill: #FFFFFF;\n",
              "      }\n",
              "    </style>\n",
              "    <button class=\"colab-df-generate\" onclick=\"generateWithVariable('other_short_rates')\"\n",
              "            title=\"Generate code using this dataframe.\"\n",
              "            style=\"display:none;\">\n",
              "\n",
              "  <svg xmlns=\"http://www.w3.org/2000/svg\" height=\"24px\"viewBox=\"0 0 24 24\"\n",
              "       width=\"24px\">\n",
              "    <path d=\"M7,19H8.4L18.45,9,17,7.55,7,17.6ZM5,21V16.75L18.45,3.32a2,2,0,0,1,2.83,0l1.4,1.43a1.91,1.91,0,0,1,.58,1.4,1.91,1.91,0,0,1-.58,1.4L9.25,21ZM18.45,9,17,7.55Zm-12,3A5.31,5.31,0,0,0,4.9,8.1,5.31,5.31,0,0,0,1,6.5,5.31,5.31,0,0,0,4.9,4.9,5.31,5.31,0,0,0,6.5,1,5.31,5.31,0,0,0,8.1,4.9,5.31,5.31,0,0,0,12,6.5,5.46,5.46,0,0,0,6.5,12Z\"/>\n",
              "  </svg>\n",
              "    </button>\n",
              "    <script>\n",
              "      (() => {\n",
              "      const buttonEl =\n",
              "        document.querySelector('#id_796cf2e6-6d4c-443b-a4fb-0a0265f20c35 button.colab-df-generate');\n",
              "      buttonEl.style.display =\n",
              "        google.colab.kernel.accessAllowed ? 'block' : 'none';\n",
              "\n",
              "      buttonEl.onclick = () => {\n",
              "        google.colab.notebook.generateWithVariable('other_short_rates');\n",
              "      }\n",
              "      })();\n",
              "    </script>\n",
              "  </div>\n",
              "\n",
              "    </div>\n",
              "  </div>\n"
            ]
          },
          "metadata": {},
          "execution_count": 43
        }
      ]
    },
    {
      "cell_type": "code",
      "source": [
        "#Chequear que el año 2018 este dentro del dataframe dataset_minutes\n",
        "dataset_statements = MonetaryPolicyCommittee(historical_split = 2017).find_statements()\n",
        "dataset_minutes = FederalReserveMins(historical_split = 2018).find_minutes()"
      ],
      "metadata": {
        "id": "aKG3tTVRzyXw",
        "colab": {
          "base_uri": "https://localhost:8080/"
        },
        "outputId": "11f463a4-a144-4f76-f07d-eb5d758fd76c"
      },
      "execution_count": null,
      "outputs": [
        {
          "output_type": "stream",
          "name": "stdout",
          "text": [
            "Constructing links between 1994 and 2024\n",
            "Extracting the past 219 FOMC Statements.\n",
            "Retrieving articles.\n",
            "...........................................................................................................................................................................................................................Constructing links between 1995 and 2024\n",
            "Extracting Federal Reserve Minutes.\n",
            "Retrieving articles.\n",
            ".............................................................................................................................................................................................................................................."
          ]
        }
      ]
    },
    {
      "cell_type": "code",
      "source": [
        "fechas_pub_minutas = pd.merge(dataset_minutes, df_fechas_pub_min, left_index=True, right_index=True)\n",
        "print(fechas_pub_minutas)\n",
        "\n",
        "fechas = pd.DataFrame({\n",
        "    \"Fecha Reunión\" : dataset_minutes.index[:],\n",
        "    \"Publicacion Minuta\" : fechas_pub_minutas['Fecha Minuta'],})\n",
        "\n",
        "fechas[\"Publicacion Minuta\"] = pd.to_datetime(fechas[\"Publicacion Minuta\"])\n",
        "fechas[\"Fecha Reunión + 1 BD\"] = fechas[\"Fecha Reunión\"] + pd.offsets.BDay()\n",
        "fechas[\"Publicacion Minuta + 1 BD\"] = fechas[\"Publicacion Minuta\"]+ pd.offsets.BDay()\n",
        "fechas[\"Fecha Siguiente Reunión\"] = list(dataset_minutes.index[1:])+[None]\n",
        "fechas[\"Fecha Siguiente Reunión + 1 BD\"] = fechas[\"Fecha Siguiente Reunión\"]+ pd.offsets.BDay()"
      ],
      "metadata": {
        "id": "OfpSJ5Ej0x1p",
        "colab": {
          "base_uri": "https://localhost:8080/"
        },
        "outputId": "ecfff29f-8481-449f-9740-b93137f9fee4"
      },
      "execution_count": null,
      "outputs": [
        {
          "output_type": "stream",
          "name": "stdout",
          "text": [
            "                                         Federal_Reserve_Mins Fecha Minuta\n",
            "1995-02-01  The Federal Reserve, the central bank of the U...   1995-03-31\n",
            "1995-03-28  A meeting of the Federal Open Market Committee...   1995-05-26\n",
            "1995-05-23  A meeting of the Federal Open Market Committee...   1995-07-07\n",
            "1995-07-06  A meeting of the Federal Open Market Committee...   1995-08-25\n",
            "1995-08-22  A meeting of the Federal Open Market Committee...   1995-09-29\n",
            "...                                                       ...          ...\n",
            "2023-06-14  The Federal Reserve, the central bank of the U...   2023-07-05\n",
            "2023-07-26  The Federal Reserve, the central bank of the U...   2023-08-16\n",
            "2023-09-20  The Federal Reserve, the central bank of the U...   2023-10-11\n",
            "2023-11-01  The Federal Reserve, the central bank of the U...   2023-11-21\n",
            "2023-12-13  The Federal Reserve, the central bank of the U...   2024-01-03\n",
            "\n",
            "[231 rows x 2 columns]\n"
          ]
        }
      ]
    },
    {
      "cell_type": "code",
      "source": [],
      "metadata": {
        "id": "izHQfPsM3U0C"
      },
      "execution_count": null,
      "outputs": []
    },
    {
      "cell_type": "code",
      "source": [
        "tasas = pd.concat(\n",
        "    (ff_rate_mid,\n",
        "     effective_ff_rate,\n",
        "    other_short_rates), axis=1\n",
        ")\n",
        "tasas.columns =[\"Fed Target Rate\", \"Effective Fed Funds Rate\", \"Tasa 3 Meses\", \"Tasa 1 Mes\"]\n",
        "\n",
        "df_fechas = fechas[['Fecha Reunión + 1 BD',\n",
        " 'Publicacion Minuta + 1 BD',\n",
        " 'Fecha Siguiente Reunión + 1 BD']]\n",
        "variacion_tasas = df_fechas.merge(tasas, left_on='Fecha Siguiente Reunión + 1 BD', right_index=True, how=\"left\")[\"Fed Target Rate\"]-df_fechas.merge(tasas, left_on='Fecha Reunión + 1 BD', right_index=True, how=\"left\")[\"Fed Target Rate\"]\n",
        "df_fechas[\"Decisión Política Monetaria\"] = variacion_tasas\n",
        "df_fechas = df_fechas.merge(tasas, left_on='Publicacion Minuta + 1 BD', right_index=True, how='left')\n",
        "\n",
        "df_fechas.tail(10)\n",
        "\n",
        "\n",
        "df_fechas['Tasa 1 Mes'].isna().sum(), df_fechas['Tasa 3 Meses'].isna().sum(),df_fechas['Effective Fed Funds Rate'].isna().sum()"
      ],
      "metadata": {
        "id": "1MvIkpDt1Ipa",
        "colab": {
          "base_uri": "https://localhost:8080/"
        },
        "outputId": "29c17e9f-35ad-4d74-bebb-006f3f40475b"
      },
      "execution_count": null,
      "outputs": [
        {
          "output_type": "stream",
          "name": "stderr",
          "text": [
            "<ipython-input-46-682ff1060aa9>:12: SettingWithCopyWarning: \n",
            "A value is trying to be set on a copy of a slice from a DataFrame.\n",
            "Try using .loc[row_indexer,col_indexer] = value instead\n",
            "\n",
            "See the caveats in the documentation: https://pandas.pydata.org/pandas-docs/stable/user_guide/indexing.html#returning-a-view-versus-a-copy\n",
            "  df_fechas[\"Decisión Política Monetaria\"] = variacion_tasas\n"
          ]
        },
        {
          "output_type": "execute_result",
          "data": {
            "text/plain": [
              "(17, 0, 0)"
            ]
          },
          "metadata": {},
          "execution_count": 46
        }
      ]
    },
    {
      "cell_type": "code",
      "source": [],
      "metadata": {
        "id": "57dr_Hk3Js5U"
      },
      "execution_count": null,
      "outputs": []
    },
    {
      "cell_type": "markdown",
      "source": [
        "------------------------------------------------------------------------------------------------------------------------------------------------------------------------------------------------------------------------------------------------------------------------------------------------------------------------------------------------------------------------------------------------------------------------------------------------------------------------------------------------------------------------------------------------------------------------------------------------------------------------------------------------------------------------------------------------------------------------------------------------------------------------------------------------------------------------------------------------------------------------------------------------------------------------------------------------------------------------------------------------------------------------------------------------------------------------------------------------------------------------------------------------------------------------------------------------------------------------------------------------------------------------------------------------------------------------------------------------------------------------------------------------------------------------------------------------------------------------------------------------------------------------------------------------------------------------------------------------------------------------------------------------------------------------------------------------------------------------------------------------------------------------------------------------------------------------------------------------------------------------------------------------------------------------------------------------------------------------------------------------------------------------------------------------------------------------------------------------------------------------------------------------------------------------------------------------------------------------------------------------------------------------------------------------------------------------------------------------------------------------------------------------------------------------------------------------------------------------------------------------------------"
      ],
      "metadata": {
        "id": "strQVseRLAgu"
      }
    },
    {
      "cell_type": "code",
      "source": [
        "df_fechas.to_pickle(\"df_fechas.pkl\")\n",
        "tasas.to_pickle(\"tasas.pkl\")\n",
        "dataset_minutes.to_pickle(\"dataset_minutes.pkl\")\n",
        "dataset_statements.to_pickle(\"dataset_statements.pkl\")\n"
      ],
      "metadata": {
        "id": "45sEfWl8DXCP"
      },
      "execution_count": null,
      "outputs": []
    },
    {
      "cell_type": "code",
      "source": [
        "files.download(r'df_fechas.pkl')\n",
        "files.download(r'tasas.pkl')\n",
        "files.download(r'dataset_minutes.pkl')\n",
        "files.download(r'dataset_statements.pkl')"
      ],
      "metadata": {
        "id": "UTgOvawl-8j4",
        "colab": {
          "base_uri": "https://localhost:8080/",
          "height": 34
        },
        "outputId": "67dcd6c8-4b16-42ba-9303-11635aa821c4"
      },
      "execution_count": null,
      "outputs": [
        {
          "output_type": "display_data",
          "data": {
            "text/plain": [
              "<IPython.core.display.Javascript object>"
            ],
            "application/javascript": [
              "\n",
              "    async function download(id, filename, size) {\n",
              "      if (!google.colab.kernel.accessAllowed) {\n",
              "        return;\n",
              "      }\n",
              "      const div = document.createElement('div');\n",
              "      const label = document.createElement('label');\n",
              "      label.textContent = `Downloading \"${filename}\": `;\n",
              "      div.appendChild(label);\n",
              "      const progress = document.createElement('progress');\n",
              "      progress.max = size;\n",
              "      div.appendChild(progress);\n",
              "      document.body.appendChild(div);\n",
              "\n",
              "      const buffers = [];\n",
              "      let downloaded = 0;\n",
              "\n",
              "      const channel = await google.colab.kernel.comms.open(id);\n",
              "      // Send a message to notify the kernel that we're ready.\n",
              "      channel.send({})\n",
              "\n",
              "      for await (const message of channel.messages) {\n",
              "        // Send a message to notify the kernel that we're ready.\n",
              "        channel.send({})\n",
              "        if (message.buffers) {\n",
              "          for (const buffer of message.buffers) {\n",
              "            buffers.push(buffer);\n",
              "            downloaded += buffer.byteLength;\n",
              "            progress.value = downloaded;\n",
              "          }\n",
              "        }\n",
              "      }\n",
              "      const blob = new Blob(buffers, {type: 'application/binary'});\n",
              "      const a = document.createElement('a');\n",
              "      a.href = window.URL.createObjectURL(blob);\n",
              "      a.download = filename;\n",
              "      div.appendChild(a);\n",
              "      a.click();\n",
              "      div.remove();\n",
              "    }\n",
              "  "
            ]
          },
          "metadata": {}
        },
        {
          "output_type": "display_data",
          "data": {
            "text/plain": [
              "<IPython.core.display.Javascript object>"
            ],
            "application/javascript": [
              "download(\"download_deb5b0ff-11e8-4fe8-9489-2bded9f4f1ab\", \"df_fechas.pkl\", 18146)"
            ]
          },
          "metadata": {}
        },
        {
          "output_type": "display_data",
          "data": {
            "text/plain": [
              "<IPython.core.display.Javascript object>"
            ],
            "application/javascript": [
              "\n",
              "    async function download(id, filename, size) {\n",
              "      if (!google.colab.kernel.accessAllowed) {\n",
              "        return;\n",
              "      }\n",
              "      const div = document.createElement('div');\n",
              "      const label = document.createElement('label');\n",
              "      label.textContent = `Downloading \"${filename}\": `;\n",
              "      div.appendChild(label);\n",
              "      const progress = document.createElement('progress');\n",
              "      progress.max = size;\n",
              "      div.appendChild(progress);\n",
              "      document.body.appendChild(div);\n",
              "\n",
              "      const buffers = [];\n",
              "      let downloaded = 0;\n",
              "\n",
              "      const channel = await google.colab.kernel.comms.open(id);\n",
              "      // Send a message to notify the kernel that we're ready.\n",
              "      channel.send({})\n",
              "\n",
              "      for await (const message of channel.messages) {\n",
              "        // Send a message to notify the kernel that we're ready.\n",
              "        channel.send({})\n",
              "        if (message.buffers) {\n",
              "          for (const buffer of message.buffers) {\n",
              "            buffers.push(buffer);\n",
              "            downloaded += buffer.byteLength;\n",
              "            progress.value = downloaded;\n",
              "          }\n",
              "        }\n",
              "      }\n",
              "      const blob = new Blob(buffers, {type: 'application/binary'});\n",
              "      const a = document.createElement('a');\n",
              "      a.href = window.URL.createObjectURL(blob);\n",
              "      a.download = filename;\n",
              "      div.appendChild(a);\n",
              "      a.click();\n",
              "      div.remove();\n",
              "    }\n",
              "  "
            ]
          },
          "metadata": {}
        },
        {
          "output_type": "display_data",
          "data": {
            "text/plain": [
              "<IPython.core.display.Javascript object>"
            ],
            "application/javascript": [
              "download(\"download_ff06e16f-d166-40d6-93ef-bde7dfda79a1\", \"tasas.pkl\", 1023025)"
            ]
          },
          "metadata": {}
        },
        {
          "output_type": "display_data",
          "data": {
            "text/plain": [
              "<IPython.core.display.Javascript object>"
            ],
            "application/javascript": [
              "\n",
              "    async function download(id, filename, size) {\n",
              "      if (!google.colab.kernel.accessAllowed) {\n",
              "        return;\n",
              "      }\n",
              "      const div = document.createElement('div');\n",
              "      const label = document.createElement('label');\n",
              "      label.textContent = `Downloading \"${filename}\": `;\n",
              "      div.appendChild(label);\n",
              "      const progress = document.createElement('progress');\n",
              "      progress.max = size;\n",
              "      div.appendChild(progress);\n",
              "      document.body.appendChild(div);\n",
              "\n",
              "      const buffers = [];\n",
              "      let downloaded = 0;\n",
              "\n",
              "      const channel = await google.colab.kernel.comms.open(id);\n",
              "      // Send a message to notify the kernel that we're ready.\n",
              "      channel.send({})\n",
              "\n",
              "      for await (const message of channel.messages) {\n",
              "        // Send a message to notify the kernel that we're ready.\n",
              "        channel.send({})\n",
              "        if (message.buffers) {\n",
              "          for (const buffer of message.buffers) {\n",
              "            buffers.push(buffer);\n",
              "            downloaded += buffer.byteLength;\n",
              "            progress.value = downloaded;\n",
              "          }\n",
              "        }\n",
              "      }\n",
              "      const blob = new Blob(buffers, {type: 'application/binary'});\n",
              "      const a = document.createElement('a');\n",
              "      a.href = window.URL.createObjectURL(blob);\n",
              "      a.download = filename;\n",
              "      div.appendChild(a);\n",
              "      a.click();\n",
              "      div.remove();\n",
              "    }\n",
              "  "
            ]
          },
          "metadata": {}
        },
        {
          "output_type": "display_data",
          "data": {
            "text/plain": [
              "<IPython.core.display.Javascript object>"
            ],
            "application/javascript": [
              "download(\"download_eac9e219-e100-4b80-a16d-3124e71af579\", \"dataset_minutes.pkl\", 58720320)"
            ]
          },
          "metadata": {}
        },
        {
          "output_type": "display_data",
          "data": {
            "text/plain": [
              "<IPython.core.display.Javascript object>"
            ],
            "application/javascript": [
              "\n",
              "    async function download(id, filename, size) {\n",
              "      if (!google.colab.kernel.accessAllowed) {\n",
              "        return;\n",
              "      }\n",
              "      const div = document.createElement('div');\n",
              "      const label = document.createElement('label');\n",
              "      label.textContent = `Downloading \"${filename}\": `;\n",
              "      div.appendChild(label);\n",
              "      const progress = document.createElement('progress');\n",
              "      progress.max = size;\n",
              "      div.appendChild(progress);\n",
              "      document.body.appendChild(div);\n",
              "\n",
              "      const buffers = [];\n",
              "      let downloaded = 0;\n",
              "\n",
              "      const channel = await google.colab.kernel.comms.open(id);\n",
              "      // Send a message to notify the kernel that we're ready.\n",
              "      channel.send({})\n",
              "\n",
              "      for await (const message of channel.messages) {\n",
              "        // Send a message to notify the kernel that we're ready.\n",
              "        channel.send({})\n",
              "        if (message.buffers) {\n",
              "          for (const buffer of message.buffers) {\n",
              "            buffers.push(buffer);\n",
              "            downloaded += buffer.byteLength;\n",
              "            progress.value = downloaded;\n",
              "          }\n",
              "        }\n",
              "      }\n",
              "      const blob = new Blob(buffers, {type: 'application/binary'});\n",
              "      const a = document.createElement('a');\n",
              "      a.href = window.URL.createObjectURL(blob);\n",
              "      a.download = filename;\n",
              "      div.appendChild(a);\n",
              "      a.click();\n",
              "      div.remove();\n",
              "    }\n",
              "  "
            ]
          },
          "metadata": {}
        },
        {
          "output_type": "display_data",
          "data": {
            "text/plain": [
              "<IPython.core.display.Javascript object>"
            ],
            "application/javascript": [
              "download(\"download_72528e8e-f323-4c26-9699-bdefd7d8dc2e\", \"dataset_statements.pkl\", 1182210)"
            ]
          },
          "metadata": {}
        }
      ]
    },
    {
      "cell_type": "code",
      "source": [],
      "metadata": {
        "id": "C4qa3NG_BP7u"
      },
      "execution_count": null,
      "outputs": []
    }
  ]
}